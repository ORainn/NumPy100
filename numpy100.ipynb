{
 "cells": [
  {
   "cell_type": "markdown",
   "metadata": {},
   "source": [
    "## 1. import numpy"
   ]
  },
  {
   "cell_type": "code",
   "execution_count": 2,
   "metadata": {},
   "outputs": [],
   "source": [
    "import numpy as np"
   ]
  },
  {
   "cell_type": "markdown",
   "metadata": {},
   "source": [
    "## 2. 查看numpy版本以及配置"
   ]
  },
  {
   "cell_type": "code",
   "execution_count": 3,
   "metadata": {},
   "outputs": [
    {
     "name": "stdout",
     "output_type": "stream",
     "text": [
      "1.15.1\n"
     ]
    }
   ],
   "source": [
    "print(np.__version__)\n",
    "#np.show_config()"
   ]
  },
  {
   "cell_type": "markdown",
   "metadata": {},
   "source": [
    "## 3. 创建长度为10的空向量"
   ]
  },
  {
   "cell_type": "code",
   "execution_count": 4,
   "metadata": {},
   "outputs": [
    {
     "data": {
      "text/plain": [
       "array([0., 0., 0., 0., 0., 0., 0., 0., 0., 0.])"
      ]
     },
     "execution_count": 4,
     "metadata": {},
     "output_type": "execute_result"
    }
   ],
   "source": [
    "np.zeros(10)"
   ]
  },
  {
   "cell_type": "markdown",
   "metadata": {},
   "source": [
    "## 4. 查看数组内存"
   ]
  },
  {
   "cell_type": "code",
   "execution_count": 5,
   "metadata": {},
   "outputs": [
    {
     "name": "stdout",
     "output_type": "stream",
     "text": [
      "bytes:800\n",
      "itemsize:8\n",
      "size:100\n",
      "[[0. 0. 0. 0. 0. 0. 0. 0. 0. 0.]\n",
      " [0. 0. 0. 0. 0. 0. 0. 0. 0. 0.]\n",
      " [0. 0. 0. 0. 0. 0. 0. 0. 0. 0.]\n",
      " [0. 0. 0. 0. 0. 0. 0. 0. 0. 0.]\n",
      " [0. 0. 0. 0. 0. 0. 0. 0. 0. 0.]\n",
      " [0. 0. 0. 0. 0. 0. 0. 0. 0. 0.]\n",
      " [0. 0. 0. 0. 0. 0. 0. 0. 0. 0.]\n",
      " [0. 0. 0. 0. 0. 0. 0. 0. 0. 0.]\n",
      " [0. 0. 0. 0. 0. 0. 0. 0. 0. 0.]\n",
      " [0. 0. 0. 0. 0. 0. 0. 0. 0. 0.]]\n"
     ]
    }
   ],
   "source": [
    "a = np.zeros((10,10))\n",
    "print(\"bytes:%d\" %(a.size*a.itemsize))\n",
    "print(\"itemsize:%d\" %a.itemsize)\n",
    "print(\"size:%d\" %a.size)\n",
    "print(a)"
   ]
  },
  {
   "cell_type": "markdown",
   "metadata": {},
   "source": [
    "## 5. 得到numpy文档中对add函数的解释"
   ]
  },
  {
   "cell_type": "code",
   "execution_count": 6,
   "metadata": {},
   "outputs": [
    {
     "name": "stdout",
     "output_type": "stream",
     "text": [
      "add(x1, x2, /, out=None, *, where=True, casting='same_kind', order='K', dtype=None, subok=True[, signature, extobj])\n",
      "\n",
      "Add arguments element-wise.\n",
      "\n",
      "Parameters\n",
      "----------\n",
      "x1, x2 : array_like\n",
      "    The arrays to be added.  If ``x1.shape != x2.shape``, they must be\n",
      "    broadcastable to a common shape (which may be the shape of one or\n",
      "    the other).\n",
      "out : ndarray, None, or tuple of ndarray and None, optional\n",
      "    A location into which the result is stored. If provided, it must have\n",
      "    a shape that the inputs broadcast to. If not provided or `None`,\n",
      "    a freshly-allocated array is returned. A tuple (possible only as a\n",
      "    keyword argument) must have length equal to the number of outputs.\n",
      "where : array_like, optional\n",
      "    Values of True indicate to calculate the ufunc at that position, values\n",
      "    of False indicate to leave the value in the output alone.\n",
      "**kwargs\n",
      "    For other keyword-only arguments, see the\n",
      "    :ref:`ufunc docs <ufuncs.kwargs>`.\n",
      "\n",
      "Returns\n",
      "-------\n",
      "add : ndarray or scalar\n",
      "    The sum of `x1` and `x2`, element-wise.\n",
      "    This is a scalar if both `x1` and `x2` are scalars.\n",
      "\n",
      "Notes\n",
      "-----\n",
      "Equivalent to `x1` + `x2` in terms of array broadcasting.\n",
      "\n",
      "Examples\n",
      "--------\n",
      ">>> np.add(1.0, 4.0)\n",
      "5.0\n",
      ">>> x1 = np.arange(9.0).reshape((3, 3))\n",
      ">>> x2 = np.arange(3.0)\n",
      ">>> np.add(x1, x2)\n",
      "array([[  0.,   2.,   4.],\n",
      "       [  3.,   5.,   7.],\n",
      "       [  6.,   8.,  10.]])\n"
     ]
    }
   ],
   "source": [
    "np.info(np.add)"
   ]
  },
  {
   "cell_type": "markdown",
   "metadata": {},
   "source": [
    "## 6. 创建一个除了第五个元素其他元素为空的向量"
   ]
  },
  {
   "cell_type": "code",
   "execution_count": 7,
   "metadata": {},
   "outputs": [
    {
     "name": "stdout",
     "output_type": "stream",
     "text": [
      "[0. 0. 0. 0. 1. 0. 0. 0. 0. 0.]\n"
     ]
    }
   ],
   "source": [
    "z = np.zeros(10)\n",
    "z[4] = 1\n",
    "print (z)"
   ]
  },
  {
   "cell_type": "markdown",
   "metadata": {},
   "source": [
    "## 7. 创建一个从49到89的向量"
   ]
  },
  {
   "cell_type": "code",
   "execution_count": 8,
   "metadata": {},
   "outputs": [
    {
     "data": {
      "text/plain": [
       "array([49, 50, 51, 52, 53, 54, 55, 56, 57, 58, 59, 60, 61, 62, 63, 64, 65,\n",
       "       66, 67, 68, 69, 70, 71, 72, 73, 74, 75, 76, 77, 78, 79, 80, 81, 82,\n",
       "       83, 84, 85, 86, 87, 88])"
      ]
     },
     "execution_count": 8,
     "metadata": {},
     "output_type": "execute_result"
    }
   ],
   "source": [
    "np.arange(49,89)"
   ]
  },
  {
   "cell_type": "markdown",
   "metadata": {},
   "source": [
    "## 8. 翻转一个向量"
   ]
  },
  {
   "cell_type": "code",
   "execution_count": 9,
   "metadata": {},
   "outputs": [
    {
     "data": {
      "text/plain": [
       "array([49, 48, 47, 46, 45, 44, 43, 42, 41, 40, 39, 38, 37, 36, 35, 34, 33,\n",
       "       32, 31, 30, 29, 28, 27, 26, 25, 24, 23, 22, 21, 20, 19, 18, 17, 16,\n",
       "       15, 14, 13, 12, 11, 10,  9,  8,  7,  6,  5,  4,  3,  2,  1,  0])"
      ]
     },
     "execution_count": 9,
     "metadata": {},
     "output_type": "execute_result"
    }
   ],
   "source": [
    "a = np.arange(50)\n",
    "a[::-1]"
   ]
  },
  {
   "cell_type": "markdown",
   "metadata": {},
   "source": [
    "## 9. 创建一个值从0到8的3x3的矩阵"
   ]
  },
  {
   "cell_type": "code",
   "execution_count": 10,
   "metadata": {},
   "outputs": [
    {
     "data": {
      "text/plain": [
       "array([[0, 1, 2],\n",
       "       [3, 4, 5],\n",
       "       [6, 7, 8]])"
      ]
     },
     "execution_count": 10,
     "metadata": {},
     "output_type": "execute_result"
    }
   ],
   "source": [
    "np.arange(9).reshape((3,3))"
   ]
  },
  {
   "cell_type": "markdown",
   "metadata": {},
   "source": [
    "## 10. 找到数组中非0元素的索引"
   ]
  },
  {
   "cell_type": "code",
   "execution_count": 11,
   "metadata": {},
   "outputs": [
    {
     "data": {
      "text/plain": [
       "(array([1, 2, 4]),)"
      ]
     },
     "execution_count": 11,
     "metadata": {},
     "output_type": "execute_result"
    }
   ],
   "source": [
    "np.nonzero([0,1,2,0,6])"
   ]
  },
  {
   "cell_type": "markdown",
   "metadata": {},
   "source": [
    "## 11. 创建一个3x3的单位矩阵"
   ]
  },
  {
   "cell_type": "code",
   "execution_count": 12,
   "metadata": {},
   "outputs": [
    {
     "data": {
      "text/plain": [
       "array([[1., 0., 0.],\n",
       "       [0., 1., 0.],\n",
       "       [0., 0., 1.]])"
      ]
     },
     "execution_count": 12,
     "metadata": {},
     "output_type": "execute_result"
    }
   ],
   "source": [
    "np.eye(3)"
   ]
  },
  {
   "cell_type": "markdown",
   "metadata": {},
   "source": [
    "## 12. 创建一个3x3x3的随机数组"
   ]
  },
  {
   "cell_type": "code",
   "execution_count": 13,
   "metadata": {},
   "outputs": [
    {
     "data": {
      "text/plain": [
       "array([[[0.06706115, 0.40176182, 0.83206615],\n",
       "        [0.27102217, 0.84778563, 0.05472304],\n",
       "        [0.55126832, 0.27302548, 0.22223503]],\n",
       "\n",
       "       [[0.61693818, 0.35583607, 0.57050348],\n",
       "        [0.65612508, 0.56775835, 0.08810009],\n",
       "        [0.49603486, 0.85047762, 0.41168969]],\n",
       "\n",
       "       [[0.34335392, 0.2101172 , 0.14389918],\n",
       "        [0.70860399, 0.49560503, 0.48816458],\n",
       "        [0.1253359 , 0.04324888, 0.35040458]]])"
      ]
     },
     "execution_count": 13,
     "metadata": {},
     "output_type": "execute_result"
    }
   ],
   "source": [
    "np.random.random((3,3,3))"
   ]
  },
  {
   "cell_type": "markdown",
   "metadata": {},
   "source": [
    "## 13. 创建10x10的随机数数组并且找到最大值与最小值"
   ]
  },
  {
   "cell_type": "code",
   "execution_count": 14,
   "metadata": {},
   "outputs": [
    {
     "name": "stdout",
     "output_type": "stream",
     "text": [
      "0.0074002093211628095 0.9955838144915077\n"
     ]
    }
   ],
   "source": [
    "a = np.random.random((10,10))\n",
    "a_min, a_max = a.min(),a.max()\n",
    "print(a_min, a_max)\n",
    "# print(a)"
   ]
  },
  {
   "cell_type": "markdown",
   "metadata": {},
   "source": [
    "## 14. 创建一个长度为30随机数组并找出他的平均值"
   ]
  },
  {
   "cell_type": "code",
   "execution_count": 15,
   "metadata": {},
   "outputs": [
    {
     "name": "stdout",
     "output_type": "stream",
     "text": [
      "0.4454909419797957\n"
     ]
    }
   ],
   "source": [
    "a = np.random.random(30)\n",
    "Mean = a.mean()\n",
    "print(Mean)"
   ]
  },
  {
   "cell_type": "markdown",
   "metadata": {},
   "source": [
    "## 15. 创建一个二维数组，其中边界值为1，其余值为0"
   ]
  },
  {
   "cell_type": "code",
   "execution_count": 16,
   "metadata": {},
   "outputs": [
    {
     "name": "stdout",
     "output_type": "stream",
     "text": [
      "[[1. 1. 1. 1. 1. 1. 1. 1. 1. 1.]\n",
      " [1. 0. 0. 0. 0. 0. 0. 0. 0. 1.]\n",
      " [1. 0. 0. 0. 0. 0. 0. 0. 0. 1.]\n",
      " [1. 0. 0. 0. 0. 0. 0. 0. 0. 1.]\n",
      " [1. 0. 0. 0. 0. 0. 0. 0. 0. 1.]\n",
      " [1. 0. 0. 0. 0. 0. 0. 0. 0. 1.]\n",
      " [1. 0. 0. 0. 0. 0. 0. 0. 0. 1.]\n",
      " [1. 0. 0. 0. 0. 0. 0. 0. 0. 1.]\n",
      " [1. 0. 0. 0. 0. 0. 0. 0. 0. 1.]\n",
      " [1. 1. 1. 1. 1. 1. 1. 1. 1. 1.]]\n"
     ]
    }
   ],
   "source": [
    "a = np.ones((10, 10))\n",
    "a[1:-1,1:-1] = 0\n",
    "print(a)"
   ]
  },
  {
   "cell_type": "markdown",
   "metadata": {},
   "source": [
    "## 16. 对于一个存在在数组，添加一个用0填充的边界"
   ]
  },
  {
   "cell_type": "code",
   "execution_count": 17,
   "metadata": {},
   "outputs": [
    {
     "name": "stdout",
     "output_type": "stream",
     "text": [
      "[[0. 0. 0. 0. 0. 0. 0.]\n",
      " [0. 1. 1. 1. 1. 1. 0.]\n",
      " [0. 1. 1. 1. 1. 1. 0.]\n",
      " [0. 1. 1. 1. 1. 1. 0.]\n",
      " [0. 1. 1. 1. 1. 1. 0.]\n",
      " [0. 1. 1. 1. 1. 1. 0.]\n",
      " [0. 0. 0. 0. 0. 0. 0.]]\n"
     ]
    }
   ],
   "source": [
    "a = np.ones((5, 5))\n",
    "a = np.pad(a, pad_width=1, mode='constant', constant_values=0)\n",
    "print(a)"
   ]
  },
  {
   "cell_type": "markdown",
   "metadata": {},
   "source": [
    "## 17. 以下表达式运行结果是什么？\n",
    "```python\n",
    "0 * np.nan\n",
    "np.nan == np.nan\n",
    "np.inf > np.nan\n",
    "np.nan - np.nan\n",
    "0.3 == 3 * 0.1\n",
    "```"
   ]
  },
  {
   "cell_type": "code",
   "execution_count": 18,
   "metadata": {},
   "outputs": [
    {
     "name": "stdout",
     "output_type": "stream",
     "text": [
      "nan\n",
      "False\n",
      "False\n",
      "nan\n",
      "False\n"
     ]
    }
   ],
   "source": [
    "print(0 * np.nan)\n",
    "print(np.nan == np.nan)\n",
    "print(np.inf > np.nan)\n",
    "print(np.nan - np.nan)\n",
    "print(0.3 == 3 * 0.1)"
   ]
  },
  {
   "cell_type": "markdown",
   "metadata": {},
   "source": [
    "## 18. 创建一个5x5的矩阵，并设置值1,2,3,4落在其对角线下方位置"
   ]
  },
  {
   "cell_type": "code",
   "execution_count": 19,
   "metadata": {},
   "outputs": [
    {
     "name": "stdout",
     "output_type": "stream",
     "text": [
      "[[0 0 0 0 0]\n",
      " [1 0 0 0 0]\n",
      " [0 2 0 0 0]\n",
      " [0 0 3 0 0]\n",
      " [0 0 0 4 0]]\n"
     ]
    }
   ],
   "source": [
    "a = np.diag(1+np.arange(4), k=-1)\n",
    "print(a)"
   ]
  },
  {
   "cell_type": "markdown",
   "metadata": {},
   "source": [
    "> 这里我们来讲一下，np.diag这个函数，这个函数有些许的意思。\n",
    "> - 当你传入的参数是一个一维数组时，你得到的是一个以该一维数组为对角线的二维数组\n",
    "> - 当你传入的参数是一个二维数组时，你得到的是一个以对角线的一维数组\n",
    "> - 参数k，是用来标示对角线的位置，如果是-1，就是对角线下面一阶，如果是1，则是对角线上面一阶，以此类推。\n",
    "\n",
    "**我们来看一个例子**"
   ]
  },
  {
   "cell_type": "code",
   "execution_count": 20,
   "metadata": {},
   "outputs": [
    {
     "name": "stdout",
     "output_type": "stream",
     "text": [
      "[[0 1]\n",
      " [2 3]]\n",
      "[0 3]\n",
      "[0 1]\n",
      "[[0 0]\n",
      " [0 1]]\n"
     ]
    }
   ],
   "source": [
    "# examples\n",
    "a = np.arange(4).reshape((2,2))\n",
    "b = np.arange(2)\n",
    "print(a)\n",
    "print(np.diag(a))\n",
    "print(b)\n",
    "print(np.diag(b))"
   ]
  },
  {
   "cell_type": "markdown",
   "metadata": {},
   "source": [
    "## 19. 创建一个8x8 的矩阵，并且设置成棋盘样式"
   ]
  },
  {
   "cell_type": "code",
   "execution_count": 21,
   "metadata": {},
   "outputs": [
    {
     "name": "stdout",
     "output_type": "stream",
     "text": [
      "[[0 1 0 1 0 1 0 1]\n",
      " [1 0 1 0 1 0 1 0]\n",
      " [0 1 0 1 0 1 0 1]\n",
      " [1 0 1 0 1 0 1 0]\n",
      " [0 1 0 1 0 1 0 1]\n",
      " [1 0 1 0 1 0 1 0]\n",
      " [0 1 0 1 0 1 0 1]\n",
      " [1 0 1 0 1 0 1 0]]\n"
     ]
    }
   ],
   "source": [
    "a = np.zeros((8, 8), dtype=int)\n",
    "a[1::2, ::2] = 1\n",
    "a[::2, 1::2] = 1\n",
    "print(a)"
   ]
  },
  {
   "cell_type": "markdown",
   "metadata": {},
   "source": [
    "> 在这里，我们讲一下python中双冒号的用法。\n",
    "> - 在最基础的list中，双冒号代表的意思是（从哪里开始：到哪里结束：每几部取一个元素）\n",
    "> - 在numpy的多维数组中，双冒号的作用是：（第几层::,第几行::，第几列::）\n",
    "> - 如果是负数的话，则是反向取值，应用的话就是字符串的翻转。\n",
    "\n",
    "**然后我们看一下例子**"
   ]
  },
  {
   "cell_type": "code",
   "execution_count": 22,
   "metadata": {},
   "outputs": [
    {
     "name": "stdout",
     "output_type": "stream",
     "text": [
      "[[[ 0  1  2  3]\n",
      "  [ 4  5  6  7]]\n",
      "\n",
      " [[ 8  9 10 11]\n",
      "  [12 13 14 15]]\n",
      "\n",
      " [[16 17 18 19]\n",
      "  [20 21 22 23]]]\n",
      "[[[ 0  2]]\n",
      "\n",
      " [[ 8 10]]\n",
      "\n",
      " [[16 18]]]\n",
      "[[[ 0  2]]\n",
      "\n",
      " [[16 18]]]\n",
      "[[[ 8 10]]]\n",
      "嘻嘻嘻，rats点我给家大迎欢\n"
     ]
    }
   ],
   "source": [
    "# examples\n",
    "a = np.arange(24).reshape((3,2,4)) #生成一个3x2x4的多维数组\n",
    "print(a)\n",
    "print(a[::,::2,::2]) #遍历每一层，每两行，每两列，取值\n",
    "print(a[::2,::2,::2]) #每两层，每两行，每两列，取值\n",
    "print(a[1::2,::2,::2]) #从第一层开始每两层，每两行，每两列，取值\n",
    "str = \"欢迎大家给我点star，嘻嘻嘻\"\n",
    "print(str[::-1])"
   ]
  },
  {
   "cell_type": "markdown",
   "metadata": {},
   "source": [
    "## 20. 考虑一个 (6,7,8) 形状的数组，求其第100个元素的索引(x,y,z)"
   ]
  },
  {
   "cell_type": "code",
   "execution_count": 23,
   "metadata": {},
   "outputs": [
    {
     "data": {
      "text/plain": [
       "(1, 5, 4)"
      ]
     },
     "execution_count": 23,
     "metadata": {},
     "output_type": "execute_result"
    }
   ],
   "source": [
    "np.unravel_index(100, (6, 7, 8))"
   ]
  },
  {
   "cell_type": "markdown",
   "metadata": {},
   "source": [
    "> 这里我们讲一下unravel_index这个函数：\n",
    "> - 这个函数是用来求取数组中某个元素的位置\n",
    "> - indices:要求取索引的数据，如果是一个数字，则返回一个元组代表了他的索引，如果是一个数组，则返回一个多维数组，每个小数组都代表了每一维的索引。\n",
    "> - dims:表示要求取的索引对应数组的维度\n",
    "\n",
    "**我们来看个例子**"
   ]
  },
  {
   "cell_type": "code",
   "execution_count": 24,
   "metadata": {},
   "outputs": [
    {
     "data": {
      "text/plain": [
       "(array([1, 1, 1]), array([5, 5, 5]), array([3, 4, 5]))"
      ]
     },
     "execution_count": 24,
     "metadata": {},
     "output_type": "execute_result"
    }
   ],
   "source": [
    "np.unravel_index(indices=[99,100,101], dims=(6, 7, 8))"
   ]
  },
  {
   "cell_type": "markdown",
   "metadata": {},
   "source": [
    "## 21. 用tile函数去创建一个 8x8的棋盘样式矩阵"
   ]
  },
  {
   "cell_type": "code",
   "execution_count": 25,
   "metadata": {},
   "outputs": [
    {
     "data": {
      "text/plain": [
       "array([[0, 1, 0, 1, 0, 1, 0, 1],\n",
       "       [1, 0, 1, 0, 1, 0, 1, 0],\n",
       "       [0, 1, 0, 1, 0, 1, 0, 1],\n",
       "       [1, 0, 1, 0, 1, 0, 1, 0],\n",
       "       [0, 1, 0, 1, 0, 1, 0, 1],\n",
       "       [1, 0, 1, 0, 1, 0, 1, 0],\n",
       "       [0, 1, 0, 1, 0, 1, 0, 1],\n",
       "       [1, 0, 1, 0, 1, 0, 1, 0]])"
      ]
     },
     "execution_count": 25,
     "metadata": {},
     "output_type": "execute_result"
    }
   ],
   "source": [
    "np.tile(np.array([[0, 1],[1, 0]]), (4,4))"
   ]
  },
  {
   "cell_type": "markdown",
   "metadata": {},
   "source": [
    "> （没错，又是我，小声bb）这次我们来讲一下np.tile\n",
    "> - 首先，这个函数是用来按某种方式重复某个矩阵从而实现矩阵的扩展\n",
    "> - 第一个参数是：要扩展的矩阵\n",
    "> - 第二个参数是：如何扩建，如果传入的是元组（1,2），那么就是行重复一次，列重复2次。如果传入的是一个数，那么就是列扩展。\n",
    "\n",
    "**我们来看个小例子**"
   ]
  },
  {
   "cell_type": "code",
   "execution_count": 26,
   "metadata": {},
   "outputs": [
    {
     "name": "stdout",
     "output_type": "stream",
     "text": [
      "[[0 1 0 1]]\n",
      "[[0 1]\n",
      " [0 1]]\n",
      "[[0 1 0 1]]\n"
     ]
    }
   ],
   "source": [
    "print(np.tile(np.array([[0,1]]), (1,2))) #行1，列2\n",
    "print(np.tile(np.array([[0,1]]), (2,1))) #行2，列1\n",
    "print(np.tile(np.array([[0,1]]), 2)) #列2"
   ]
  },
  {
   "cell_type": "markdown",
   "metadata": {},
   "source": [
    "## 22. 对一个5x5的随机矩阵做归一化"
   ]
  },
  {
   "cell_type": "code",
   "execution_count": 27,
   "metadata": {},
   "outputs": [
    {
     "name": "stdout",
     "output_type": "stream",
     "text": [
      "[[0.08050577 0.01626421 0.91783023 0.72754503 0.20567642]\n",
      " [0.         0.42464496 0.45076977 0.63110828 0.51177089]\n",
      " [0.70211073 0.39623806 0.59813343 0.40126377 0.57336218]\n",
      " [0.53802696 0.43192207 0.5361353  1.         0.92133969]\n",
      " [0.76700841 0.73684713 0.02737611 0.08180195 0.42705149]]\n"
     ]
    }
   ],
   "source": [
    "a = np.random.random((5, 5))\n",
    "a_max, a_min = a.max(), a.min()\n",
    "a = (a - a_min)/(a_max - a_min)\n",
    "print(a)"
   ]
  },
  {
   "cell_type": "markdown",
   "metadata": {},
   "source": [
    "## 23. 创建一个将颜色描述为(RGBA)四个无符号字节的自定义dtype"
   ]
  },
  {
   "cell_type": "code",
   "execution_count": 28,
   "metadata": {},
   "outputs": [
    {
     "name": "stdout",
     "output_type": "stream",
     "text": [
      "[('r', 'u1'), ('g', 'u1'), ('b', 'u1'), ('a', 'u1')]\n"
     ]
    }
   ],
   "source": [
    "color = np.dtype([\n",
    "    (\"r\", np.ubyte, 1),\n",
    "    (\"g\", np.ubyte, 1),\n",
    "    (\"b\", np.ubyte, 1),\n",
    "    (\"a\", np.ubyte, 1)\n",
    "])\n",
    "\n",
    "print(color)"
   ]
  },
  {
   "cell_type": "markdown",
   "metadata": {},
   "source": [
    "> 我们讲一下 np.dtype\n",
    "> - 这个函数是用来自定义我们的数据类型的"
   ]
  },
  {
   "cell_type": "markdown",
   "metadata": {},
   "source": [
    "## 24. 一个5x3的矩阵与一个3x2的矩阵相乘，实矩阵乘积是什么"
   ]
  },
  {
   "cell_type": "code",
   "execution_count": 29,
   "metadata": {},
   "outputs": [
    {
     "data": {
      "text/plain": [
       "array([[3., 3.],\n",
       "       [3., 3.],\n",
       "       [3., 3.],\n",
       "       [3., 3.],\n",
       "       [3., 3.]])"
      ]
     },
     "execution_count": 29,
     "metadata": {},
     "output_type": "execute_result"
    }
   ],
   "source": [
    "np.dot(np.ones((5,3)), np.ones((3, 2)))"
   ]
  },
  {
   "cell_type": "code",
   "execution_count": 30,
   "metadata": {},
   "outputs": [
    {
     "data": {
      "text/plain": [
       "array([[3., 3.],\n",
       "       [3., 3.],\n",
       "       [3., 3.],\n",
       "       [3., 3.],\n",
       "       [3., 3.]])"
      ]
     },
     "execution_count": 30,
     "metadata": {},
     "output_type": "execute_result"
    }
   ],
   "source": [
    "np.ones((5,3))@np.ones((3, 2))"
   ]
  },
  {
   "cell_type": "markdown",
   "metadata": {},
   "source": [
    "## 25. 给定一个一维数组，对其在3到8之间的所有元素取反"
   ]
  },
  {
   "cell_type": "code",
   "execution_count": 31,
   "metadata": {},
   "outputs": [
    {
     "name": "stdout",
     "output_type": "stream",
     "text": [
      "[8 7 6 5 4 3]\n"
     ]
    }
   ],
   "source": [
    "a = np.arange(11)\n",
    "a = a[8:2:-1]\n",
    "print(a)"
   ]
  },
  {
   "cell_type": "markdown",
   "metadata": {},
   "source": [
    "## 26. 下面脚本运行后的结果是什么\n",
    "```python\n",
    "print(sum(range(5),-1))\n",
    "from numpy import *\n",
    "print(sum(range(5),-1))\n",
    "```"
   ]
  },
  {
   "cell_type": "code",
   "execution_count": 32,
   "metadata": {},
   "outputs": [
    {
     "name": "stdout",
     "output_type": "stream",
     "text": [
      "9\n"
     ]
    }
   ],
   "source": [
    "print(sum(range(5), -1))"
   ]
  },
  {
   "cell_type": "code",
   "execution_count": 33,
   "metadata": {},
   "outputs": [
    {
     "name": "stdout",
     "output_type": "stream",
     "text": [
      "10\n"
     ]
    }
   ],
   "source": [
    "from numpy import *\n",
    "print(sum(range(5), -1))"
   ]
  },
  {
   "cell_type": "markdown",
   "metadata": {},
   "source": [
    "> 解释：\n",
    "> 为什么是这样呢？\n",
    "> - 首先，我们先了解一下python标准库的sum函数，sum函数的第二个参数表示，求和以后再加一个数\n",
    "> - 但是，显然NumPy对sum函数有不同的实现，他的第二个参数是axis也就是求和的行或列。\n",
    "\n",
    "**让我们看个小例子**"
   ]
  },
  {
   "cell_type": "code",
   "execution_count": 34,
   "metadata": {},
   "outputs": [
    {
     "name": "stdout",
     "output_type": "stream",
     "text": [
      "[[ 0  1  2  3]\n",
      " [ 4  5  6  7]\n",
      " [ 8  9 10 11]]\n",
      "[ 6 22 38]\n",
      "[ 6 22 38]\n",
      "[12 15 18 21]\n"
     ]
    }
   ],
   "source": [
    "a = np.arange(12).reshape((3, 4))\n",
    "print(a)\n",
    "print(sum(a, axis=-1))\n",
    "print(sum(a, axis=1))\n",
    "print(sum(a, axis=0))"
   ]
  },
  {
   "cell_type": "markdown",
   "metadata": {},
   "source": [
    "## 27. 考虑一个整数向量Z,下列表达合法的是哪个\n",
    "```python\n",
    "Z**Z\n",
    "2 << Z >> 2\n",
    "Z <- Z\n",
    "1j*Z\n",
    "Z/1/1\n",
    "Z<Z>Z\n",
    "```"
   ]
  },
  {
   "cell_type": "code",
   "execution_count": 35,
   "metadata": {},
   "outputs": [
    {
     "name": "stdout",
     "output_type": "stream",
     "text": [
      "[  1   1   4  27 256]\n"
     ]
    }
   ],
   "source": [
    "z = np.arange(5)\n",
    "print(z**z)"
   ]
  },
  {
   "cell_type": "code",
   "execution_count": 36,
   "metadata": {},
   "outputs": [
    {
     "name": "stdout",
     "output_type": "stream",
     "text": [
      "[0 1 2 4 8]\n"
     ]
    }
   ],
   "source": [
    "print(2<<z>>2) #bit shift"
   ]
  },
  {
   "cell_type": "code",
   "execution_count": 37,
   "metadata": {},
   "outputs": [
    {
     "name": "stdout",
     "output_type": "stream",
     "text": [
      "[False False False False False]\n"
     ]
    }
   ],
   "source": [
    "print(z<-z)"
   ]
  },
  {
   "cell_type": "code",
   "execution_count": 38,
   "metadata": {},
   "outputs": [
    {
     "name": "stdout",
     "output_type": "stream",
     "text": [
      "[0.+0.j 0.+1.j 0.+2.j 0.+3.j 0.+4.j]\n"
     ]
    }
   ],
   "source": [
    "print(1j*z) #复数"
   ]
  },
  {
   "cell_type": "code",
   "execution_count": 39,
   "metadata": {},
   "outputs": [
    {
     "name": "stdout",
     "output_type": "stream",
     "text": [
      "[0. 1. 2. 3. 4.]\n"
     ]
    }
   ],
   "source": [
    "print(z/1/1)"
   ]
  },
  {
   "cell_type": "code",
   "execution_count": 40,
   "metadata": {},
   "outputs": [],
   "source": [
    "# print(z<z>z) wrong"
   ]
  },
  {
   "cell_type": "markdown",
   "metadata": {},
   "source": [
    "> 我们解释一下位运算这里的东西：\n",
    "> - 左移运算就是乘2的位数\n",
    "> - 右移运算就是除以2的位数\n",
    "---\n",
    "> 还有numpy中的j表示的是复数"
   ]
  },
  {
   "cell_type": "markdown",
   "metadata": {},
   "source": [
    "## 28. 下列表达式的结果分别是什么?\n",
    "```python\n",
    "np.array(0) / np.array(0)\n",
    "np.array(0) // np.array(0)\n",
    "np.array([np.nan]).astype(int).astype(float)\n",
    "```"
   ]
  },
  {
   "cell_type": "markdown",
   "metadata": {},
   "source": [
    "np.array(0) / np.array(0)"
   ]
  },
  {
   "cell_type": "code",
   "execution_count": 41,
   "metadata": {},
   "outputs": [
    {
     "name": "stderr",
     "output_type": "stream",
     "text": [
      "/opt/anaconda3/lib/python3.7/site-packages/ipykernel_launcher.py:1: RuntimeWarning: divide by zero encountered in floor_divide\n",
      "  \"\"\"Entry point for launching an IPython kernel.\n"
     ]
    },
    {
     "data": {
      "text/plain": [
       "0"
      ]
     },
     "execution_count": 41,
     "metadata": {},
     "output_type": "execute_result"
    }
   ],
   "source": [
    "np.array(0) // np.array(0)"
   ]
  },
  {
   "cell_type": "code",
   "execution_count": 42,
   "metadata": {},
   "outputs": [
    {
     "data": {
      "text/plain": [
       "array([-9.22337204e+18])"
      ]
     },
     "execution_count": 42,
     "metadata": {},
     "output_type": "execute_result"
    }
   ],
   "source": [
    "np.array([np.nan]).astype(int).astype(float)"
   ]
  },
  {
   "cell_type": "markdown",
   "metadata": {},
   "source": [
    "> **Nan：Not a number** \n",
    "**Inf：Infinity(无穷大）** \n",
    "当然容易搞混的还有None，None是python中用于标识空缺数据，Nan是nunpy和pandas中用于标识空缺数据，None是一个python特殊的数据类型， **但是NaN却是用一个特殊的float**"
   ]
  },
  {
   "cell_type": "markdown",
   "metadata": {},
   "source": [
    "## 29. 如何从零位对浮点数组做舍入"
   ]
  },
  {
   "cell_type": "code",
   "execution_count": 43,
   "metadata": {},
   "outputs": [
    {
     "name": "stdout",
     "output_type": "stream",
     "text": [
      "[ 0.08067678  7.15673718 -9.16048693 -2.43296362 -5.42992065 -3.33577661\n",
      "  7.39685508  5.64371225  9.07167516 -0.61907251]\n",
      "[  1.   8. -10.  -3.  -6.  -4.   8.   6.  10.  -1.]\n"
     ]
    }
   ],
   "source": [
    "a = np.random.uniform(-10, +10, 10)\n",
    "print(a)\n",
    "print (np.copysign(np.ceil(np.abs(a)), a))"
   ]
  },
  {
   "cell_type": "markdown",
   "metadata": {},
   "source": [
    "> 讲解：\n",
    "> - 首先,np.ceil是向上取整\n",
    "> - 然后，copysign(a, b)是将b的符号赋值给a的元素\n",
    "> 为什么要这么做呢？\n",
    "> 我们可以想一下：\n",
    "> 如果a是个负数，我们不取绝对值，直接取整，那么会将位数舍去，但是如果a是个正数，他又会向上取整。\n"
   ]
  },
  {
   "cell_type": "markdown",
   "metadata": {},
   "source": [
    "## 30. 如何找到两个数组中的共同元素?"
   ]
  },
  {
   "cell_type": "code",
   "execution_count": 44,
   "metadata": {},
   "outputs": [
    {
     "name": "stdout",
     "output_type": "stream",
     "text": [
      "[9 9 1 7 7 9 3 3 0 5]\n",
      "[0 0 7 9 4 1 7 2 3 7]\n",
      "[0 1 3 7 9]\n"
     ]
    }
   ],
   "source": [
    "a = np.random.randint(0, 10, 10)\n",
    "b = np.random.randint(0, 10, 10)\n",
    "print(a)\n",
    "print(b)\n",
    "print(np.intersect1d(a, b))"
   ]
  },
  {
   "cell_type": "markdown",
   "metadata": {},
   "source": [
    "> np.intersect1d是用来求取交集的函数"
   ]
  },
  {
   "cell_type": "markdown",
   "metadata": {},
   "source": [
    "## 31. 如何忽略所有的 numpy 警告(尽管不建议这么做)"
   ]
  },
  {
   "cell_type": "code",
   "execution_count": 45,
   "metadata": {},
   "outputs": [
    {
     "data": {
      "text/plain": [
       "array([nan])"
      ]
     },
     "execution_count": 45,
     "metadata": {},
     "output_type": "execute_result"
    }
   ],
   "source": [
    "defaults = np.seterr(all=\"ignore\")\n",
    "np.zeros(1)/0"
   ]
  },
  {
   "cell_type": "markdown",
   "metadata": {},
   "source": [
    "## 32. 下面的表达式是正确的吗?\n",
    "```python\n",
    "np.sqrt(-1) == np.emath.sqrt(-1)\n",
    "```"
   ]
  },
  {
   "cell_type": "code",
   "execution_count": 46,
   "metadata": {},
   "outputs": [
    {
     "name": "stdout",
     "output_type": "stream",
     "text": [
      "False\n"
     ]
    }
   ],
   "source": [
    "print(np.sqrt(-1) == np.emath.sqrt(-1))"
   ]
  },
  {
   "cell_type": "code",
   "execution_count": 47,
   "metadata": {},
   "outputs": [
    {
     "name": "stdout",
     "output_type": "stream",
     "text": [
      "nan\n"
     ]
    }
   ],
   "source": [
    "print(np.sqrt(-1))"
   ]
  },
  {
   "cell_type": "code",
   "execution_count": 48,
   "metadata": {},
   "outputs": [
    {
     "name": "stdout",
     "output_type": "stream",
     "text": [
      "1j\n"
     ]
    }
   ],
   "source": [
    "print(np.emath.sqrt(-1))"
   ]
  },
  {
   "cell_type": "markdown",
   "metadata": {},
   "source": [
    "> 讲解一下：emath是什么？\n",
    "> - NumPy中的自动域函数\n",
    "> - 可以更友好地使用数学函数，而不去考虑他的定义域\n",
    "> - 比如说：当我们对-1使用最初时的sqrt函数，会得到返回值nan，但是如果使用emath中的函数，他会为我们返回一个复数。相同的比如说对数函数。"
   ]
  },
  {
   "cell_type": "markdown",
   "metadata": {},
   "source": [
    "## 33. 如何得到昨天，今天，明天的日期?"
   ]
  },
  {
   "cell_type": "code",
   "execution_count": 49,
   "metadata": {},
   "outputs": [
    {
     "name": "stdout",
     "output_type": "stream",
     "text": [
      "2019-04-15\n"
     ]
    }
   ],
   "source": [
    "yesterday = np.datetime64('today', 'D') - np.timedelta64(1, 'D')\n",
    "print(yesterday)"
   ]
  },
  {
   "cell_type": "code",
   "execution_count": 50,
   "metadata": {},
   "outputs": [
    {
     "name": "stdout",
     "output_type": "stream",
     "text": [
      "2019-04-16\n"
     ]
    }
   ],
   "source": [
    "today = np.datetime64('today', 'D')\n",
    "print(today)"
   ]
  },
  {
   "cell_type": "code",
   "execution_count": 51,
   "metadata": {},
   "outputs": [
    {
     "name": "stdout",
     "output_type": "stream",
     "text": [
      "2019-04-17\n"
     ]
    }
   ],
   "source": [
    "tomorrow = np.datetime64('today', 'D') + np.timedelta64(1, 'D')\n",
    "print(tomorrow)"
   ]
  },
  {
   "cell_type": "markdown",
   "metadata": {},
   "source": [
    "> 日期时间与时间增量\n",
    "> - numpy从1.7开始，将时间变量加入到核心数据组中，但是由于python标准时间库中已经将datetime包含了进去，所以他叫做datetime64\n",
    "> - datetime的第二个参数指定了datetime的单位。日期单位是年（'Y'），月（'M'），周（'W'）和天（'D'），而时间单位是小时（'h'），分钟（'m'） ），秒（'s'），毫秒（'ms'）和一些额外的SI前缀基于秒的单位。\n",
    "> - NumPy允许减去两个Datetime值，这个操作产生一个带有时间单位的数字。 由于NumPy的核心没有物理量系统，因此创建了timedelta64数据类型以补充datetime64。\n",
    "\n",
    "**下面看个小例子**"
   ]
  },
  {
   "cell_type": "code",
   "execution_count": 52,
   "metadata": {},
   "outputs": [
    {
     "data": {
      "text/plain": [
       "numpy.datetime64('1999-10')"
      ]
     },
     "execution_count": 52,
     "metadata": {},
     "output_type": "execute_result"
    }
   ],
   "source": [
    "np.datetime64('1999-10-03', 'M')"
   ]
  },
  {
   "cell_type": "code",
   "execution_count": 53,
   "metadata": {},
   "outputs": [
    {
     "data": {
      "text/plain": [
       "numpy.datetime64('1999-10-01')"
      ]
     },
     "execution_count": 53,
     "metadata": {},
     "output_type": "execute_result"
    }
   ],
   "source": [
    "np.datetime64('1999-10', 'D')"
   ]
  },
  {
   "cell_type": "code",
   "execution_count": 54,
   "metadata": {},
   "outputs": [
    {
     "data": {
      "text/plain": [
       "numpy.timedelta64(405,'D')"
      ]
     },
     "execution_count": 54,
     "metadata": {},
     "output_type": "execute_result"
    }
   ],
   "source": [
    "my_birthday = np.datetime64(\"1999-10-03\", \"D\")\n",
    "your_birthday = np.datetime64(\"1998-08-24\", \"D\")\n",
    "my_birthday - your_birthday"
   ]
  },
  {
   "cell_type": "markdown",
   "metadata": {},
   "source": [
    "## 34. 如何得到所有与2016年7月对应的日期"
   ]
  },
  {
   "cell_type": "code",
   "execution_count": 55,
   "metadata": {},
   "outputs": [
    {
     "name": "stdout",
     "output_type": "stream",
     "text": [
      "['2016-07-01' '2016-07-02' '2016-07-03' '2016-07-04' '2016-07-05'\n",
      " '2016-07-06' '2016-07-07' '2016-07-08' '2016-07-09' '2016-07-10'\n",
      " '2016-07-11' '2016-07-12' '2016-07-13' '2016-07-14' '2016-07-15'\n",
      " '2016-07-16' '2016-07-17' '2016-07-18' '2016-07-19' '2016-07-20'\n",
      " '2016-07-21' '2016-07-22' '2016-07-23' '2016-07-24' '2016-07-25'\n",
      " '2016-07-26' '2016-07-27' '2016-07-28' '2016-07-29' '2016-07-30'\n",
      " '2016-07-31']\n"
     ]
    }
   ],
   "source": [
    "Z = np.arange('2016-07', '2016-08', dtype='datetime64[D]')\n",
    "print(Z)"
   ]
  },
  {
   "cell_type": "markdown",
   "metadata": {},
   "source": [
    "## 35. 如何直接在位计算(A+B)\\*(-A/2)(不建立副本)?"
   ]
  },
  {
   "cell_type": "code",
   "execution_count": 56,
   "metadata": {},
   "outputs": [
    {
     "name": "stdout",
     "output_type": "stream",
     "text": [
      "[2. 2. 2.]\n",
      "[3. 3. 3.]\n"
     ]
    }
   ],
   "source": [
    "A = np.ones(3)*1\n",
    "B = np.ones(3)*2\n",
    "C = np.ones(3)*3\n",
    "print(B)\n",
    "np.add(A,B,out=B)\n",
    "print(B)"
   ]
  },
  {
   "cell_type": "code",
   "execution_count": 57,
   "metadata": {},
   "outputs": [
    {
     "name": "stdout",
     "output_type": "stream",
     "text": [
      "[1. 1. 1.]\n",
      "[0.5 0.5 0.5]\n"
     ]
    }
   ],
   "source": [
    "print(A)\n",
    "np.divide(A,2,out=A)\n",
    "print(A)"
   ]
  },
  {
   "cell_type": "code",
   "execution_count": 58,
   "metadata": {},
   "outputs": [
    {
     "name": "stdout",
     "output_type": "stream",
     "text": [
      "[0.5 0.5 0.5]\n",
      "[-0.5 -0.5 -0.5]\n"
     ]
    }
   ],
   "source": [
    "print(A)\n",
    "np.negative(A,out=A)\n",
    "print(A)"
   ]
  },
  {
   "cell_type": "code",
   "execution_count": 59,
   "metadata": {},
   "outputs": [
    {
     "name": "stdout",
     "output_type": "stream",
     "text": [
      "[-0.5 -0.5 -0.5]\n",
      "[-1.5 -1.5 -1.5]\n"
     ]
    }
   ],
   "source": [
    "print(A)\n",
    "np.multiply(A,B,out=A)\n",
    "print(A)"
   ]
  },
  {
   "cell_type": "markdown",
   "metadata": {},
   "source": [
    "## 36. 用五种不同的方法去提取一个随机数组的整数部分"
   ]
  },
  {
   "cell_type": "code",
   "execution_count": 60,
   "metadata": {},
   "outputs": [
    {
     "name": "stdout",
     "output_type": "stream",
     "text": [
      "[ 7.09777722  5.34732338 -0.33224018 -4.86214699 -5.7029509  -5.92397875\n",
      "  6.49562657 -2.52704349  5.13551832 -2.69672792]\n"
     ]
    }
   ],
   "source": [
    "a = np.random.uniform(-10, 10, 10)\n",
    "print(a)"
   ]
  },
  {
   "cell_type": "code",
   "execution_count": 61,
   "metadata": {},
   "outputs": [
    {
     "name": "stdout",
     "output_type": "stream",
     "text": [
      "[ 7.  5. -1. -5. -6. -6.  6. -3.  5. -3.]\n"
     ]
    }
   ],
   "source": [
    "print(a - a%1)"
   ]
  },
  {
   "cell_type": "code",
   "execution_count": 62,
   "metadata": {},
   "outputs": [
    {
     "data": {
      "text/plain": [
       "array([ 7.,  5., -1., -5., -6., -6.,  6., -3.,  5., -3.])"
      ]
     },
     "execution_count": 62,
     "metadata": {},
     "output_type": "execute_result"
    }
   ],
   "source": [
    "np.floor(a)"
   ]
  },
  {
   "cell_type": "code",
   "execution_count": 63,
   "metadata": {},
   "outputs": [
    {
     "data": {
      "text/plain": [
       "array([ 7.,  5., -1., -5., -6., -6.,  6., -3.,  5., -3.])"
      ]
     },
     "execution_count": 63,
     "metadata": {},
     "output_type": "execute_result"
    }
   ],
   "source": [
    "np.ceil(a) - 1"
   ]
  },
  {
   "cell_type": "code",
   "execution_count": 64,
   "metadata": {},
   "outputs": [
    {
     "data": {
      "text/plain": [
       "array([ 7,  5,  0, -4, -5, -5,  6, -2,  5, -2])"
      ]
     },
     "execution_count": 64,
     "metadata": {},
     "output_type": "execute_result"
    }
   ],
   "source": [
    "a.astype(int)"
   ]
  },
  {
   "cell_type": "code",
   "execution_count": 65,
   "metadata": {},
   "outputs": [
    {
     "data": {
      "text/plain": [
       "array([ 7.,  5., -0., -4., -5., -5.,  6., -2.,  5., -2.])"
      ]
     },
     "execution_count": 65,
     "metadata": {},
     "output_type": "execute_result"
    }
   ],
   "source": [
    "np.trunc(a)"
   ]
  },
  {
   "cell_type": "markdown",
   "metadata": {},
   "source": [
    "> 讲解一下：\n",
    "> - np.floor 向下取整\n",
    "> - np.trunc 截取元素，也就是取最接近的整数。参数为array like的元素"
   ]
  },
  {
   "cell_type": "markdown",
   "metadata": {},
   "source": [
    "## 37. 创建一个5x5的矩阵，其中每行的数值范围从0到4"
   ]
  },
  {
   "cell_type": "code",
   "execution_count": 66,
   "metadata": {},
   "outputs": [
    {
     "name": "stdout",
     "output_type": "stream",
     "text": [
      "[[0. 1. 2. 3. 4.]\n",
      " [0. 1. 2. 3. 4.]\n",
      " [0. 1. 2. 3. 4.]\n",
      " [0. 1. 2. 3. 4.]]\n",
      "<class 'numpy.ndarray'>\n"
     ]
    }
   ],
   "source": [
    "a = np.arange(5).astype(float64)\n",
    "a = np.tile(a, (4,1))\n",
    "print(a)\n",
    "print(type(a))"
   ]
  },
  {
   "cell_type": "code",
   "execution_count": 67,
   "metadata": {},
   "outputs": [
    {
     "name": "stdout",
     "output_type": "stream",
     "text": [
      "[[0. 1. 2. 3. 4.]\n",
      " [0. 1. 2. 3. 4.]\n",
      " [0. 1. 2. 3. 4.]\n",
      " [0. 1. 2. 3. 4.]\n",
      " [0. 1. 2. 3. 4.]]\n",
      "<class 'numpy.ndarray'>\n"
     ]
    }
   ],
   "source": [
    "b = np.zeros((5,5))\n",
    "b += np.arange(5)\n",
    "print(b)\n",
    "print(type(b))"
   ]
  },
  {
   "cell_type": "markdown",
   "metadata": {},
   "source": [
    "## 38. 通过考虑一个可生成10个整数的函数，来构建一个数组"
   ]
  },
  {
   "cell_type": "code",
   "execution_count": 68,
   "metadata": {},
   "outputs": [
    {
     "name": "stdout",
     "output_type": "stream",
     "text": [
      "[0. 1. 2. 3. 4. 5. 6. 7. 8. 9.]\n"
     ]
    }
   ],
   "source": [
    "def generate():\n",
    "    for x in range(10):\n",
    "        yield x\n",
    "Z = np.fromiter(generate(),dtype=float,count=-1)\n",
    "print (Z)"
   ]
  },
  {
   "cell_type": "markdown",
   "metadata": {},
   "source": [
    "## 39. 创建一个长度为10的随机向量，其值域范围从0到1，但是不包括0和1"
   ]
  },
  {
   "cell_type": "code",
   "execution_count": 69,
   "metadata": {},
   "outputs": [
    {
     "data": {
      "text/plain": [
       "array([0.17449445, 0.7163602 , 0.81012878, 0.88670508, 0.65245605,\n",
       "       0.3570287 , 0.29098933, 0.16569457, 0.25856672, 0.58830806])"
      ]
     },
     "execution_count": 69,
     "metadata": {},
     "output_type": "execute_result"
    }
   ],
   "source": [
    "np.random.uniform(0,1, 10)"
   ]
  },
  {
   "cell_type": "code",
   "execution_count": 70,
   "metadata": {},
   "outputs": [
    {
     "name": "stdout",
     "output_type": "stream",
     "text": [
      "[0.09090909 0.18181818 0.27272727 0.36363636 0.45454545 0.54545455\n",
      " 0.63636364 0.72727273 0.81818182 0.90909091]\n"
     ]
    }
   ],
   "source": [
    "Z = np.linspace(0,1,11,endpoint=False)[1:]\n",
    "print(Z)\n",
    "# 这是当时我看的那个人写的答案，但是在我查了np.linspace的用法以后，我认为他的答案是错的，他不满足随机"
   ]
  },
  {
   "cell_type": "markdown",
   "metadata": {},
   "source": [
    "> 讲解一下：\n",
    "> - np.linspace()是用来产生一个向量。\n",
    "> - 参数：start：起始值；end：最大值；endpoint：是否包含最大值，也就是end；retstep：步长\n",
    "> - 也正是因为这个步长，所以我说他的方法是错误的。"
   ]
  },
  {
   "cell_type": "markdown",
   "metadata": {},
   "source": [
    "## 40. 创建一个长度为10的随机向量，并将其排序"
   ]
  },
  {
   "cell_type": "code",
   "execution_count": 71,
   "metadata": {},
   "outputs": [
    {
     "name": "stdout",
     "output_type": "stream",
     "text": [
      "[0.81255397 0.35312583 0.34937138 0.39164577 0.92684109 0.10276133\n",
      " 0.48956229 0.42140027 0.58769151 0.09750321]\n",
      "[0.09750321 0.10276133 0.34937138 0.35312583 0.39164577 0.42140027\n",
      " 0.48956229 0.58769151 0.81255397 0.92684109]\n"
     ]
    }
   ],
   "source": [
    "a = np.random.random(10)\n",
    "print(a)\n",
    "a.sort()\n",
    "print(a)"
   ]
  },
  {
   "cell_type": "markdown",
   "metadata": {},
   "source": [
    "## 41.对于一个小数组，如何用比 np.sum更快的方式对其求和"
   ]
  },
  {
   "cell_type": "code",
   "execution_count": 72,
   "metadata": {},
   "outputs": [
    {
     "name": "stdout",
     "output_type": "stream",
     "text": [
      "6.890296936035156e-05\n"
     ]
    }
   ],
   "source": [
    "a = np.arange(10)\n",
    "import time\n",
    "begin = time.time()\n",
    "np.add.reduce(a)\n",
    "end = time.time()\n",
    "print(end - begin)"
   ]
  },
  {
   "cell_type": "code",
   "execution_count": 73,
   "metadata": {},
   "outputs": [
    {
     "name": "stdout",
     "output_type": "stream",
     "text": [
      "9.655952453613281e-05\n"
     ]
    }
   ],
   "source": [
    "begin = time.time()\n",
    "np.sum(a)\n",
    "end = time.time()\n",
    "print(end - begin)"
   ]
  },
  {
   "cell_type": "markdown",
   "metadata": {},
   "source": [
    "> 讲解一下：\n",
    "> - 在小阵列的数据上，np.add.reduce是要比np.sum快的，但是，当数据规模一上升，差异就消失了。\n",
    "> - 为什么呢？简单的说就是因为np.sum实际上调用的就是reduce，所差的时间也在参数处理和函数调用上。"
   ]
  },
  {
   "cell_type": "markdown",
   "metadata": {},
   "source": [
    "## 42. 对于两个随机数组A和B，检查它们是否相等"
   ]
  },
  {
   "cell_type": "code",
   "execution_count": 74,
   "metadata": {},
   "outputs": [
    {
     "name": "stdout",
     "output_type": "stream",
     "text": [
      "False\n"
     ]
    }
   ],
   "source": [
    "A = np.random.randint(0,2,5)\n",
    "B = np.random.randint(0,2,5)\n",
    "equal = np.allclose(A,B)\n",
    "print(equal)"
   ]
  },
  {
   "cell_type": "markdown",
   "metadata": {},
   "source": [
    "> 讲解一下：\n",
    "> - numpy的allclose方法，比较两个array是不是每一元素都相等，默认在1e-05的误差范围内"
   ]
  },
  {
   "cell_type": "markdown",
   "metadata": {},
   "source": [
    "np.array_equal(A, B)"
   ]
  },
  {
   "cell_type": "markdown",
   "metadata": {},
   "source": [
    "## 43. 创建一个只读数组(read-only)"
   ]
  },
  {
   "cell_type": "code",
   "execution_count": 75,
   "metadata": {},
   "outputs": [
    {
     "name": "stdout",
     "output_type": "stream",
     "text": [
      "[0 1 2 3 4]\n"
     ]
    },
    {
     "ename": "ValueError",
     "evalue": "assignment destination is read-only",
     "output_type": "error",
     "traceback": [
      "\u001b[0;31m---------------------------------------------------------------------------\u001b[0m",
      "\u001b[0;31mValueError\u001b[0m                                Traceback (most recent call last)",
      "\u001b[0;32m<ipython-input-75-9f023f1990ed>\u001b[0m in \u001b[0;36m<module>\u001b[0;34m()\u001b[0m\n\u001b[1;32m      2\u001b[0m \u001b[0mprint\u001b[0m\u001b[0;34m(\u001b[0m\u001b[0ma\u001b[0m\u001b[0;34m)\u001b[0m\u001b[0;34m\u001b[0m\u001b[0;34m\u001b[0m\u001b[0m\n\u001b[1;32m      3\u001b[0m \u001b[0ma\u001b[0m\u001b[0;34m.\u001b[0m\u001b[0mflags\u001b[0m\u001b[0;34m.\u001b[0m\u001b[0mwriteable\u001b[0m \u001b[0;34m=\u001b[0m \u001b[0;32mFalse\u001b[0m\u001b[0;34m\u001b[0m\u001b[0;34m\u001b[0m\u001b[0m\n\u001b[0;32m----> 4\u001b[0;31m \u001b[0ma\u001b[0m\u001b[0;34m[\u001b[0m\u001b[0;36m0\u001b[0m\u001b[0;34m]\u001b[0m \u001b[0;34m=\u001b[0m \u001b[0;36m1\u001b[0m\u001b[0;34m\u001b[0m\u001b[0;34m\u001b[0m\u001b[0m\n\u001b[0m",
      "\u001b[0;31mValueError\u001b[0m: assignment destination is read-only"
     ]
    }
   ],
   "source": [
    "a = np.arange(5)\n",
    "print(a)\n",
    "a.flags.writeable = False\n",
    "a[0] = 1"
   ]
  },
  {
   "cell_type": "markdown",
   "metadata": {},
   "source": [
    "## 44. 将笛卡尔坐标下的一个10x2的矩阵转换为极坐标形式"
   ]
  },
  {
   "cell_type": "code",
   "execution_count": null,
   "metadata": {},
   "outputs": [],
   "source": [
    "Z = np.random.random((10,2))\n",
    "X,Y = Z[:,0], Z[:,1]\n",
    "R = np.sqrt(X**2+Y**2)\n",
    "T = np.arctan2(Y,X)\n",
    "print (R)\n",
    "print (T)"
   ]
  },
  {
   "cell_type": "markdown",
   "metadata": {},
   "source": [
    "## 45. 创建一个长度为10的向量，并将向量中最大值替换为1"
   ]
  },
  {
   "cell_type": "code",
   "execution_count": null,
   "metadata": {},
   "outputs": [],
   "source": [
    "a = np.random.randint(0, 5, 10)\n",
    "print(a)\n",
    "a[a.argmax()] = 1\n",
    "print(a)"
   ]
  },
  {
   "cell_type": "markdown",
   "metadata": {},
   "source": [
    "## 46. 创建一个结构化数组，并实现 x 和 y 坐标覆盖 [0,1]x[0,1] 区域"
   ]
  },
  {
   "cell_type": "code",
   "execution_count": null,
   "metadata": {},
   "outputs": [],
   "source": [
    "Z = np.zeros((5,5), [('x',float),('y',float)])\n",
    "Z['x'], Z['y'] = np.meshgrid(np.linspace(0,1,5),\n",
    "                             np.linspace(0,1,5))\n",
    "print(Z)"
   ]
  },
  {
   "cell_type": "markdown",
   "metadata": {},
   "source": [
    "> 讲解一下：\n",
    "> - np.meshgrid()其实就是在高维空间画网格用的函数\n",
    "> - 好多文章都说画网格，其实刚开始我是没有理解的，不过没有关系，我们来看个小栗子就好了"
   ]
  },
  {
   "cell_type": "code",
   "execution_count": null,
   "metadata": {},
   "outputs": [],
   "source": [
    "a = np.random.randint(0, 5, 4)\n",
    "b = np.random.randint(0, 8, 4)\n",
    "print(a)\n",
    "print(b)\n",
    "[x, y] = np.meshgrid(a, b) # x是横向的线， y是纵向的线\n",
    "print(x)\n",
    "print(y)"
   ]
  },
  {
   "cell_type": "markdown",
   "metadata": {},
   "source": [
    "# 47. 给定两个数组X和Y，构造Cauchy矩阵C (Cij =1/(xi - yj)"
   ]
  },
  {
   "cell_type": "code",
   "execution_count": null,
   "metadata": {},
   "outputs": [],
   "source": [
    "X = np.arange(8)\n",
    "Y = X + 0.5\n",
    "C = 1.0 / np.subtract.outer(X, Y)\n",
    "print(np.linalg.det(C))"
   ]
  },
  {
   "cell_type": "markdown",
   "metadata": {},
   "source": [
    "> - substract,multiply等函数叫做ufunc，也就是通用函数\n",
    "> - ufunc.outer是Apply the ufunc op to all pairs (a, b) with a in A and b in B.简单的说就是应用ufunc到每一对数据上\n",
    "> - np.linalg.det是用来求行列式的，但是后两个维度必须是方阵\n",
    "\n",
    "**看个例子**"
   ]
  },
  {
   "cell_type": "code",
   "execution_count": null,
   "metadata": {},
   "outputs": [],
   "source": [
    "a = np.arange(5)\n",
    "b = a + 1\n",
    "print(a)\n",
    "print(b)\n",
    "np.subtract.outer(a, b)"
   ]
  },
  {
   "cell_type": "markdown",
   "metadata": {},
   "source": [
    "## 48. 打印每个numpy标量类型的最小值和最大值"
   ]
  },
  {
   "cell_type": "code",
   "execution_count": null,
   "metadata": {},
   "outputs": [],
   "source": [
    "for dtype in [np.int8, np.int32, np.int64]:\n",
    "    print(np.iinfo(dtype).min)\n",
    "    print(np.iinfo(dtype).max)"
   ]
  },
  {
   "cell_type": "code",
   "execution_count": null,
   "metadata": {},
   "outputs": [],
   "source": [
    "for dtype in [np.float32, np.float64]:\n",
    "    print(np.finfo(dtype).min)\n",
    "    print(np.finfo(dtype).max)\n",
    "    print(np.finfo(dtype).eps)"
   ]
  },
  {
   "cell_type": "markdown",
   "metadata": {},
   "source": [
    "> - np.iinfo() Machine limits for integer types.\n",
    "> - np.finfo() Machine limits for floating point types.\n",
    "> - np.finfo().eps 所能表示的最小正数"
   ]
  },
  {
   "cell_type": "markdown",
   "metadata": {},
   "source": [
    "## 49. 如何打印一个数组中的所有数值"
   ]
  },
  {
   "cell_type": "code",
   "execution_count": null,
   "metadata": {},
   "outputs": [],
   "source": [
    "# np.set_printoptions(threshold=np.nan)\n",
    "Z = np.zeros((50,50))\n",
    "print (Z)"
   ]
  },
  {
   "cell_type": "code",
   "execution_count": null,
   "metadata": {},
   "outputs": [],
   "source": [
    "np.set_printoptions(threshold=np.nan)\n",
    "print (Z)"
   ]
  },
  {
   "cell_type": "markdown",
   "metadata": {},
   "source": [
    "> - 我们会发现，如果我们ndarray的数据一旦比较多的时候，我们在print的时候就会被折叠\n",
    "> - 这时候，我们就要使用np.setprintoptions()了\n",
    "> - - precision:输出结果保留精度的位数\n",
    "- - threshold:array数量的个数在小于threshold的时候不会被折叠\n",
    "- - edgeitems:在array已经被折叠后，开头和结尾都会显示edgeitems个数\n",
    "- - formatter:这个很有意思，像python3里面str.format(),就是可以对你的输出进行自定义的格式化\n",
    "\n",
    "**如果不明白，可以看一下上面的例子**"
   ]
  },
  {
   "cell_type": "markdown",
   "metadata": {},
   "source": [
    "## 50. 给定标量时，如何找到数组中最接近标量的值"
   ]
  },
  {
   "cell_type": "code",
   "execution_count": null,
   "metadata": {},
   "outputs": [],
   "source": [
    "Z = np.arange(100)\n",
    "v = np.random.uniform(0,100)\n",
    "index = (np.abs(Z-v)).argmin()\n",
    "print (Z[index])"
   ]
  },
  {
   "cell_type": "markdown",
   "metadata": {},
   "source": [
    "## 51. 创建一个表示位置(x,y)和颜色(r,g,b)的结构化数组"
   ]
  },
  {
   "cell_type": "code",
   "execution_count": null,
   "metadata": {},
   "outputs": [],
   "source": [
    "Z = np.zeros(10, [ ('position', [ ('x', float, 1),\n",
    "                                  ('y', float, 1)]),\n",
    "                   ('color',    [ ('r', float, 1),\n",
    "                                  ('g', float, 1),\n",
    "                                  ('b', float, 1)])])\n",
    "print (Z)"
   ]
  },
  {
   "cell_type": "markdown",
   "metadata": {},
   "source": [
    "## 52. 对一个表示坐标形状为(100,2)的随机向量，找到点与点的距离"
   ]
  },
  {
   "cell_type": "code",
   "execution_count": null,
   "metadata": {},
   "outputs": [],
   "source": [
    "Z = np.random.random((10,2))\n",
    "X,Y = np.atleast_2d(Z[:,0], Z[:,1])\n",
    "D = np.sqrt( (X-X.T)**2 + (Y-Y.T)**2)\n",
    "print (D)"
   ]
  },
  {
   "cell_type": "markdown",
   "metadata": {},
   "source": [
    "> np.atleast_2d()是用来改变维度的，就是直接将其视为某个维度\n",
    "\n",
    "**比如说：**"
   ]
  },
  {
   "cell_type": "code",
   "execution_count": null,
   "metadata": {},
   "outputs": [],
   "source": [
    "np.atleast_2d([1])"
   ]
  },
  {
   "cell_type": "code",
   "execution_count": null,
   "metadata": {},
   "outputs": [],
   "source": [
    "np.atleast_3d([1])"
   ]
  },
  {
   "cell_type": "markdown",
   "metadata": {},
   "source": [
    "## 53. 如何将32位的浮点数(float)转换为对应的整数(integer)"
   ]
  },
  {
   "cell_type": "code",
   "execution_count": null,
   "metadata": {},
   "outputs": [],
   "source": [
    "a = np.arange(5, dtype=int32)\n",
    "print(a)\n",
    "a = a.astype(np.float32, copy=False)\n",
    "print(a)"
   ]
  },
  {
   "cell_type": "markdown",
   "metadata": {},
   "source": [
    "## 54. 如何读取以下文件\n",
    "```\n",
    "1, 2, 3, 4, 5\n",
    "6,  ,  , 7, 8\n",
    " ,  , 9,10,11\n",
    "```"
   ]
  },
  {
   "cell_type": "code",
   "execution_count": null,
   "metadata": {},
   "outputs": [],
   "source": [
    "np.genfromtxt(fname=\"./data.txt\", dtype=np.int32, delimiter=',')"
   ]
  },
  {
   "cell_type": "markdown",
   "metadata": {},
   "source": [
    "> np.genfromtxt()函数：\n",
    "> - 用来将文件转换为表格\n",
    "> - 参数解析：\n",
    ">  - autostrip:是否自动去除空格\n",
    ">  - delimiter:分割符\n",
    ">  - fname:文件路径只有这个是必选的\n",
    ">  - miss:缺失值\n",
    ">  - missvalues:缺失值替换为什么\n",
    ">  - dtype:数据类型\n",
    "\n",
    "这里只列出常用的参数，如果大家还想深入了解，那么请大家看[这里](https://docs.scipy.org/doc/numpy-1.13.0/reference/generated/numpy.genfromtxt.html)"
   ]
  },
  {
   "cell_type": "markdown",
   "metadata": {},
   "source": [
    "## 55. 对于numpy数组，enumerate的等价操作是什么"
   ]
  },
  {
   "cell_type": "code",
   "execution_count": null,
   "metadata": {},
   "outputs": [],
   "source": [
    "Z = np.arange(9).reshape(3,3)\n",
    "print(Z)\n",
    "print(\"----------\")\n",
    "for index, value in np.ndenumerate(Z):\n",
    "    print (index, value)\n",
    "print(\"----------\")\n",
    "for index in np.ndindex(Z.shape):\n",
    "    print (index, Z[index])"
   ]
  },
  {
   "cell_type": "markdown",
   "metadata": {},
   "source": [
    "**是什么呢？显然就是索引和值，不过多维数组的索引是一个tuple**"
   ]
  },
  {
   "cell_type": "markdown",
   "metadata": {},
   "source": [
    "## 56. 生成一个通用的二维Gaussian-like数组"
   ]
  },
  {
   "cell_type": "code",
   "execution_count": null,
   "metadata": {},
   "outputs": [],
   "source": [
    "X, Y = np.meshgrid(np.linspace(-1,1,10), np.linspace(-1,1,10))\n",
    "D = np.sqrt(X*X+Y*Y)\n",
    "sigma, mu = 1.0, 0.0\n",
    "G = np.exp(-( (D-mu)**2 / ( 2.0 * sigma**2 ) ) )\n",
    "print (G)"
   ]
  },
  {
   "cell_type": "markdown",
   "metadata": {},
   "source": [
    "## 57. 对一个二维数组，如何在其内部随机放置p个元素?"
   ]
  },
  {
   "cell_type": "code",
   "execution_count": null,
   "metadata": {},
   "outputs": [],
   "source": [
    "a = np.zeros((10, 10))\n",
    "print(a)\n",
    "np.put(a, np.random.choice(range(10*10), 8, replace=False), 1)\n",
    "print(a)"
   ]
  },
  {
   "cell_type": "markdown",
   "metadata": {},
   "source": [
    "> np.random.choice() 可以从一个int数字或1维array里随机选取内容，并将选取结果放入n维array中返回。\n",
    "> - 参数：\n",
    ">  - a : 如果是一维数组，就表示从这个一维数组中随机采样；如果是int型，就表示从0到a-1这个序列中随机采样。 \n",
    ">  - size : 采样结果的数量，默认为1.可以是整数，表示要采样的数量；也可以为tuple，如(m, n, k)，则要采样的数量为m * n * k，size为(m, n, k)。 \n",
    ">  - replace : boolean型，采样的样本是否要更换？这个地方我不太理解，测了一下发现replace指定为True时，采样的元素会有重复；当replace指定为False时，采样不会重复。 \n",
    ">  - p : 一个一维数组，制定了a中每个元素采样的概率，若为默认的None，则a中每个元素被采样的概率相同。"
   ]
  },
  {
   "cell_type": "markdown",
   "metadata": {},
   "source": [
    "## 58. 减去一个矩阵中的每一行的平均值"
   ]
  },
  {
   "cell_type": "code",
   "execution_count": null,
   "metadata": {},
   "outputs": [],
   "source": [
    "X = np.random.rand(5, 10)\n",
    "print(X)\n",
    "Y = X - X.mean(axis=1, keepdims=True)\n",
    "print(Y)"
   ]
  },
  {
   "cell_type": "markdown",
   "metadata": {},
   "source": [
    "## 59. 如何通过第n列对一个数组进行排序?"
   ]
  },
  {
   "cell_type": "code",
   "execution_count": null,
   "metadata": {},
   "outputs": [],
   "source": [
    "Z = np.random.randint(0,10,(3,3))\n",
    "print (Z)\n",
    "print (Z[Z[:,1].argsort()])"
   ]
  },
  {
   "cell_type": "markdown",
   "metadata": {},
   "source": [
    "**从中可以看出argsort函数返回的是数组值从小到大的索引值**  \n",
    "\n",
    "**举个例子**"
   ]
  },
  {
   "cell_type": "code",
   "execution_count": null,
   "metadata": {},
   "outputs": [],
   "source": [
    "#examples\n",
    "n = np.random.randint(0,8,5) #1d\n",
    "print(n)\n",
    "print(n.argsort())"
   ]
  },
  {
   "cell_type": "code",
   "execution_count": null,
   "metadata": {},
   "outputs": [],
   "source": [
    "a = np.random.randint(0, 8, (3,3)) #2d\n",
    "print(a)\n",
    "print(a.argsort())"
   ]
  },
  {
   "cell_type": "markdown",
   "metadata": {},
   "source": [
    "## 60. 如何检查一个二维数组是否有空列"
   ]
  },
  {
   "cell_type": "code",
   "execution_count": null,
   "metadata": {},
   "outputs": [],
   "source": [
    "Z = np.random.randint(0,3,(3,10))\n",
    "# print ((~Z.any(axis=0)).any())\n",
    "print(~Z.any(axis=0).any())"
   ]
  },
  {
   "cell_type": "markdown",
   "metadata": {},
   "source": [
    "> 知识补充：\n",
    "> - 在NumPy中，～表示对条件判断式的否定\n",
    "> - any()函数其实是一个OR的过程，就是说A1 OR A2 OR A3 ...\n",
    "> - all()就是and了\n",
    "\n",
    "**看不懂？没关系，我们来看个小例子。**"
   ]
  },
  {
   "cell_type": "code",
   "execution_count": null,
   "metadata": {},
   "outputs": [],
   "source": [
    "a = np.random.randint(0, 8, (3, 3))\n",
    "print(a.any(axis=0))\n",
    "print(~a.any(axis=0))\n",
    "print(~a.any(axis=0).any())"
   ]
  },
  {
   "cell_type": "markdown",
   "metadata": {},
   "source": [
    "## 61. 从数组中的给定值中找出最近的值"
   ]
  },
  {
   "cell_type": "code",
   "execution_count": null,
   "metadata": {},
   "outputs": [],
   "source": [
    "Z = np.random.uniform(0,1,10)\n",
    "z = 0.5\n",
    "m = Z.flat[np.abs(Z - z).argmin()]\n",
    "print (m)\n",
    "n = Z[np.abs(Z - z).argmin()]\n",
    "print(n)"
   ]
  },
  {
   "cell_type": "markdown",
   "metadata": {},
   "source": [
    "> 知识补充:  \n",
    "> - flat有什么用呢？返回一个迭代器，那么迭代器和我们的数组有什么不一样的呢？\n",
    "> - 节省内存\n"
   ]
  },
  {
   "cell_type": "markdown",
   "metadata": {},
   "source": [
    "## 62. 如何用迭代器(iterator)计算两个分别具有形状(1,3)和(3,1)的数组"
   ]
  },
  {
   "cell_type": "code",
   "execution_count": null,
   "metadata": {},
   "outputs": [],
   "source": [
    "A = np.arange(3).reshape(3,1)\n",
    "B = np.arange(3).reshape(1,3)\n",
    "it = np.nditer([A,B,None])\n",
    "for x,y,z in it: \n",
    "    z[...] = x + y\n",
    "print (it.operands[2])"
   ]
  },
  {
   "cell_type": "markdown",
   "metadata": {},
   "source": [
    "> 知识补充：\n",
    "> - np.nditer()是返回一个迭代器，可以对一维数组和多维数组迭代\n",
    "> - 默认情况下，nditer将视待迭代遍历的数组为只读对象（read-only），为了在遍历数组的同时，实现对数组元素值得修改，必须指定op_flags=['readwrite']模式：\n",
    "> - 参数：\n",
    ">  - op_flag:是否可写\n",
    ">  - flag:['f_index'/'mulit_index']多维迭代或者一维迭代\n",
    ">  - order:迭代顺序，有两种\n"
   ]
  },
  {
   "cell_type": "markdown",
   "metadata": {},
   "source": [
    "## 63. 创建一个具有name属性的数组类"
   ]
  },
  {
   "cell_type": "code",
   "execution_count": null,
   "metadata": {},
   "outputs": [],
   "source": [
    "class NamedArray(np.ndarray):\n",
    "    def __new__(cls, array, name=\"no name\"):\n",
    "        obj = np.asarray(array).view(cls)\n",
    "        obj.name = name\n",
    "        return obj\n",
    "    def __array_finalize__(self, obj):\n",
    "        if obj is None: return\n",
    "        self.info = getattr(obj, 'name', \"no name\")\n",
    "\n",
    "Z = NamedArray(np.arange(10), \"range_10\")\n",
    "print (Z.name)\n",
    "print(Z)"
   ]
  },
  {
   "cell_type": "markdown",
   "metadata": {},
   "source": [
    "## 64. 考虑一个给定的向量，如何对由第二个向量索引的每个元素加1(小心重复的索引)"
   ]
  },
  {
   "cell_type": "code",
   "execution_count": null,
   "metadata": {},
   "outputs": [],
   "source": [
    "Z = np.ones(10)\n",
    "I = np.random.randint(0,len(Z),20)\n",
    "print(I)\n",
    "Z += np.bincount(I, minlength=len(Z))\n",
    "print(Z)"
   ]
  },
  {
   "cell_type": "code",
   "execution_count": null,
   "metadata": {},
   "outputs": [],
   "source": [
    "# 方法2\n",
    "np.add.at(Z, I, 1)\n",
    "print(Z)"
   ]
  },
  {
   "cell_type": "code",
   "execution_count": null,
   "metadata": {},
   "outputs": [],
   "source": [
    "# examples\n",
    "a = np.random.randint(0, 5, 6)\n",
    "print(a)\n",
    "np.bincount(a)"
   ]
  },
  {
   "cell_type": "markdown",
   "metadata": {},
   "source": [
    "## 65. 根据索引列表(I)，如何将向量(X)的元素累加到数组(F)"
   ]
  },
  {
   "cell_type": "code",
   "execution_count": null,
   "metadata": {},
   "outputs": [],
   "source": [
    "X = [1,2,3,4,5,6]\n",
    "I = [1,3,9,3,4,1]\n",
    "F = np.bincount(I,X)\n",
    "print (F)"
   ]
  },
  {
   "cell_type": "markdown",
   "metadata": {},
   "source": [
    "## 66. 考虑一个(dtype=ubyte) 的 (w,h,3)图像，计算其唯一颜色的数量"
   ]
  },
  {
   "cell_type": "code",
   "execution_count": null,
   "metadata": {},
   "outputs": [],
   "source": [
    "w,h = 16,16\n",
    "I = np.random.randint(0,2,(h,w,3)).astype(np.ubyte)\n",
    "#Note that we should compute 256*256 first. \n",
    "#Otherwise numpy will only promote F.dtype to 'uint16' and overfolw will occur\n",
    "F = I[...,0]*(256*256) + I[...,1]*256 +I[...,2]\n",
    "n = len(np.unique(F))\n",
    "print (n)"
   ]
  },
  {
   "cell_type": "markdown",
   "metadata": {},
   "source": [
    "## 67. 考虑一个四维数组，如何一次性计算出最后两个轴(axis)的和？"
   ]
  },
  {
   "cell_type": "code",
   "execution_count": null,
   "metadata": {},
   "outputs": [],
   "source": [
    "a = np.random.randint(0, 10, (3,4,3,4))\n",
    "print(a)\n",
    "sum = a.sum(axis=(-2,-1))\n",
    "sum"
   ]
  },
  {
   "cell_type": "markdown",
   "metadata": {},
   "source": [
    "## 68. 考虑一个一维向量D，如何使用相同大小的向量S来计算D子集的均值？"
   ]
  },
  {
   "cell_type": "code",
   "execution_count": null,
   "metadata": {},
   "outputs": [],
   "source": [
    "D = np.random.uniform(0,1,100)\n",
    "S = np.random.randint(0,10,100)\n",
    "\n",
    "D_sums = np.bincount(S, weights=D)\n",
    "print(D_sums)\n",
    "D_counts = np.bincount(S)\n",
    "print(D_counts)\n",
    "D_means = D_sums / D_counts\n",
    "print (D_means)"
   ]
  },
  {
   "cell_type": "code",
   "execution_count": null,
   "metadata": {},
   "outputs": [],
   "source": [
    "a = np.array([1,2,2,3,3,4,4,4,5])\n",
    "# np.set_printoptions(threshold=np.nan)\n",
    "# np.bincount 用来对数组中的数进行计数，minlength 是返回数组的最小长度\n",
    "# 打印出来，你就知道\n",
    "#如果指定权重，则输入数组由它加权，即如果在位置i处找到值n，则[n] + = weight [i]而不是out [n] + = 1\n",
    "# print(np.bincount(a))\n",
    "# print(np.bincount(a, minlength=900))\n",
    "b = np.arange(9)\n",
    "print(b)\n",
    "np.bincount(a, weights=b)"
   ]
  },
  {
   "cell_type": "markdown",
   "metadata": {},
   "source": [
    "## 69. 如何获得点积 dot prodcut的对角线?"
   ]
  },
  {
   "cell_type": "code",
   "execution_count": null,
   "metadata": {},
   "outputs": [],
   "source": [
    "a = np.random.uniform(0,1,(5,5))\n",
    "b = np.random.uniform(0,1,(5,5))\n",
    "\n",
    "np.diag(np.dot(a, b))"
   ]
  },
  {
   "cell_type": "code",
   "execution_count": null,
   "metadata": {},
   "outputs": [],
   "source": [
    "# 这种方法据说更快\n",
    "np.sum(a*b.T, axis=1)"
   ]
  },
  {
   "cell_type": "markdown",
   "metadata": {},
   "source": [
    "## 70. 考虑一个向量[1,2,3,4,5],如何建立一个新的向量，在这个新向量中每个值之间有3个连续的零"
   ]
  },
  {
   "cell_type": "code",
   "execution_count": null,
   "metadata": {},
   "outputs": [],
   "source": [
    "a = np.array([1,2,3,4,5])\n",
    "z = np.zeros(a.shape[0] + (a.shape[0] - 1)*3)\n",
    "z[::4] = a\n",
    "z"
   ]
  },
  {
   "cell_type": "markdown",
   "metadata": {},
   "source": [
    "## 71. 考虑一个维度(5,5,3)的数组，如何将其与一个(5,5)的数组相乘？"
   ]
  },
  {
   "cell_type": "code",
   "execution_count": null,
   "metadata": {},
   "outputs": [],
   "source": [
    "A = np.ones((5,5,3))\n",
    "B = 2*np.ones((5,5))\n",
    "# print(B[:,:, None])\n",
    "print (A * B[:,:,None])"
   ]
  },
  {
   "cell_type": "markdown",
   "metadata": {},
   "source": [
    "## 72. 如何对一个数组中任意两行做交换?"
   ]
  },
  {
   "cell_type": "code",
   "execution_count": null,
   "metadata": {},
   "outputs": [],
   "source": [
    "A = np.arange(25).reshape(5,5)\n",
    "print (A)\n",
    "A[[0,1]] = A[[1,0]]\n",
    "print (A)"
   ]
  },
  {
   "cell_type": "markdown",
   "metadata": {},
   "source": [
    "## 73. 考虑一个可以描述10个三角形的triplets，找到可以分割全部三角形的line segment"
   ]
  },
  {
   "cell_type": "code",
   "execution_count": null,
   "metadata": {},
   "outputs": [],
   "source": [
    "faces = np.random.randint(0,100,(10,3))\n",
    "F = np.roll(faces.repeat(2,axis=1),-1,axis=1)\n",
    "F = F.reshape(len(F)*3,2)\n",
    "F = np.sort(F,axis=1)\n",
    "G = F.view( dtype=[('p0',F.dtype),('p1',F.dtype)] )\n",
    "G = np.unique(G)\n",
    "print (G)"
   ]
  },
  {
   "cell_type": "markdown",
   "metadata": {},
   "source": [
    "## 75. 如何通过滑动窗口计算一个数组的平均数"
   ]
  },
  {
   "cell_type": "code",
   "execution_count": 78,
   "metadata": {},
   "outputs": [
    {
     "name": "stdout",
     "output_type": "stream",
     "text": [
      "[ 0.  1.  3.  6.  9. 12. 15. 18. 21. 24. 27. 30. 33. 36. 39. 42. 45. 48.\n",
      " 51. 54.]\n",
      "[ 1.  2.  3.  4.  5.  6.  7.  8.  9. 10. 11. 12. 13. 14. 15. 16. 17. 18.]\n"
     ]
    }
   ],
   "source": [
    "def moving_average(a, n=3) :\n",
    "    ret = np.cumsum(a, dtype=float)\n",
    "    ret[n:] = ret[n:] - ret[:-n]\n",
    "    return ret[n - 1:] / n\n",
    "Z = np.arange(20)\n",
    "print(moving_average(Z, n=3))"
   ]
  },
  {
   "cell_type": "markdown",
   "metadata": {},
   "source": [
    "> 知识补充：\n",
    "> - np.cumsum 滑动求和（我起的名字）\n",
    "> - 参数 ：\n",
    ">  - axis :按行求和，还是按列求和\n",
    ">  - dtype : 老生常谈\n",
    ">  - out : 同上\n",
    "\n",
    "**看个例子**\n"
   ]
  },
  {
   "cell_type": "code",
   "execution_count": 81,
   "metadata": {},
   "outputs": [
    {
     "name": "stdout",
     "output_type": "stream",
     "text": [
      "[ 0  1  2  3  4  5  6  7  8  9 10 11 12 13 14 15 16 17 18 19]\n"
     ]
    },
    {
     "data": {
      "text/plain": [
       "array([  0,   1,   3,   6,  10,  15,  21,  28,  36,  45,  55,  66,  78,\n",
       "        91, 105, 120, 136, 153, 171, 190])"
      ]
     },
     "execution_count": 81,
     "metadata": {},
     "output_type": "execute_result"
    }
   ],
   "source": [
    "a = np.arange(20)\n",
    "print(a)\n",
    "np.cumsum(a)"
   ]
  },
  {
   "cell_type": "markdown",
   "metadata": {},
   "source": [
    "## 76.考虑一维数组Z，构建一个二维数组，其第一行为（Z [0]，Z [1]，Z [2]），每个后续行移1（最后一行应为（Z [-3]，Z [-2]，Z [-1])"
   ]
  },
  {
   "cell_type": "code",
   "execution_count": 79,
   "metadata": {},
   "outputs": [
    {
     "name": "stdout",
     "output_type": "stream",
     "text": [
      "[[0 1 2]\n",
      " [1 2 3]\n",
      " [2 3 4]\n",
      " [3 4 5]\n",
      " [4 5 6]\n",
      " [5 6 7]\n",
      " [6 7 8]\n",
      " [7 8 9]]\n"
     ]
    }
   ],
   "source": [
    "from numpy.lib import stride_tricks\n",
    "\n",
    "def rolling(a, window):\n",
    "    shape = (a.size - window + 1, window)\n",
    "    strides = (a.itemsize, a.itemsize)\n",
    "    return stride_tricks.as_strided(a, shape=shape, strides=strides)\n",
    "Z = rolling(np.arange(10), 3)\n",
    "\n",
    "print (Z)"
   ]
  },
  {
   "cell_type": "markdown",
   "metadata": {},
   "source": [
    "> stride_tricks是用来给矩阵分块的函数，具体的我们看个例子吧。\n",
    "\n",
    "```\n",
    "import numpy as np\n",
    "\n",
    "# 数独是个 9x9 的二维数组\n",
    "# 包含 9 个 3x3 的九宫格\n",
    "sudoku = np.array([   \n",
    "    [2, 8, 7, 1, 6, 5, 9, 4, 3],\n",
    "    [9, 5, 4, 7, 3, 2, 1, 6, 8],\n",
    "    [6, 1, 3, 8, 4, 9, 7, 5, 2],\n",
    "    [8, 7, 9, 6, 5, 1, 2, 3, 4],\n",
    "    [4, 2, 1, 3, 9, 8, 6, 7, 5],\n",
    "    [3, 6, 5, 4, 2, 7, 8, 9, 1],\n",
    "    [1, 9, 8, 5, 7, 3, 4, 2, 6],\n",
    "    [5, 4, 2, 9, 1, 6, 3, 8, 7],\n",
    "    [7, 3, 6, 2, 8, 4, 5, 1, 9]\n",
    "])\n",
    "\n",
    "# 要将其变成 3x3x3x3 的四维数组\n",
    "# 但不能直接 reshape，因为这样会把一行变成一个九宫格\n",
    "shape = (3, 3, 3, 3)\n",
    "\n",
    "# 大行之间隔 27 个元素，大列之间隔 3 个元素\n",
    "# 小行之间隔 9 个元素，小列之间隔 1 个元素\n",
    "strides = sudoku.itemsize * np.array([27, 3, 9, 1])\n",
    "\n",
    "squares = np.lib.stride_tricks.as_strided(sudoku, shape=shape, strides=strides) \n",
    "print(squares)\n",
    "\n",
    "```"
   ]
  },
  {
   "cell_type": "code",
   "execution_count": 82,
   "metadata": {},
   "outputs": [
    {
     "name": "stdout",
     "output_type": "stream",
     "text": [
      "[[[[2 8 7]\n",
      "   [9 5 4]\n",
      "   [6 1 3]]\n",
      "\n",
      "  [[1 6 5]\n",
      "   [7 3 2]\n",
      "   [8 4 9]]\n",
      "\n",
      "  [[9 4 3]\n",
      "   [1 6 8]\n",
      "   [7 5 2]]]\n",
      "\n",
      "\n",
      " [[[8 7 9]\n",
      "   [4 2 1]\n",
      "   [3 6 5]]\n",
      "\n",
      "  [[6 5 1]\n",
      "   [3 9 8]\n",
      "   [4 2 7]]\n",
      "\n",
      "  [[2 3 4]\n",
      "   [6 7 5]\n",
      "   [8 9 1]]]\n",
      "\n",
      "\n",
      " [[[1 9 8]\n",
      "   [5 4 2]\n",
      "   [7 3 6]]\n",
      "\n",
      "  [[5 7 3]\n",
      "   [9 1 6]\n",
      "   [2 8 4]]\n",
      "\n",
      "  [[4 2 6]\n",
      "   [3 8 7]\n",
      "   [5 1 9]]]]\n"
     ]
    }
   ],
   "source": [
    "import numpy as np\n",
    "\n",
    "# 数独是个 9x9 的二维数组\n",
    "# 包含 9 个 3x3 的九宫格\n",
    "sudoku = np.array([   \n",
    "    [2, 8, 7, 1, 6, 5, 9, 4, 3],\n",
    "    [9, 5, 4, 7, 3, 2, 1, 6, 8],\n",
    "    [6, 1, 3, 8, 4, 9, 7, 5, 2],\n",
    "    [8, 7, 9, 6, 5, 1, 2, 3, 4],\n",
    "    [4, 2, 1, 3, 9, 8, 6, 7, 5],\n",
    "    [3, 6, 5, 4, 2, 7, 8, 9, 1],\n",
    "    [1, 9, 8, 5, 7, 3, 4, 2, 6],\n",
    "    [5, 4, 2, 9, 1, 6, 3, 8, 7],\n",
    "    [7, 3, 6, 2, 8, 4, 5, 1, 9]\n",
    "])\n",
    "\n",
    "# 要将其变成 3x3x3x3 的四维数组\n",
    "# 但不能直接 reshape，因为这样会把一行变成一个九宫格\n",
    "shape = (3, 3, 3, 3)\n",
    "\n",
    "# 大行之间隔 27 个元素，大列之间隔 3 个元素\n",
    "# 小行之间隔 9 个元素，小列之间隔 1 个元素\n",
    "strides = sudoku.itemsize * np.array([27, 3, 9, 1])\n",
    "\n",
    "squares = np.lib.stride_tricks.as_strided(sudoku, shape=shape, strides=strides) \n",
    "print(squares)"
   ]
  },
  {
   "cell_type": "markdown",
   "metadata": {},
   "source": [
    "## 77. 如何对布尔值取反，或者原位(in-place)改变浮点数的符号(sign)"
   ]
  },
  {
   "cell_type": "code",
   "execution_count": 85,
   "metadata": {},
   "outputs": [
    {
     "name": "stdout",
     "output_type": "stream",
     "text": [
      "[1 1 0 1 0 0 1 1 1 0 1 0 0 0 1 0 1 0 1 0 1 1 0 0 0 1 0 1 0 0 1 1 1 1 0 0 1\n",
      " 1 1 1 0 0 1 1 0 1 0 1 1 1 1 1 0 0 0 0 0 1 1 0 0 1 0 0 1 1 0 0 0 0 0 0 0 1\n",
      " 1 1 1 1 0 0 1 1 0 1 0 1 0 0 1 0 0 1 1 0 1 0 1 0 0 1]\n"
     ]
    },
    {
     "data": {
      "text/plain": [
       "array([0, 0, 1, 0, 1, 1, 0, 0, 0, 1, 0, 1, 1, 1, 0, 1, 0, 1, 0, 1, 0, 0,\n",
       "       1, 1, 1, 0, 1, 0, 1, 1, 0, 0, 0, 0, 1, 1, 0, 0, 0, 0, 1, 1, 0, 0,\n",
       "       1, 0, 1, 0, 0, 0, 0, 0, 1, 1, 1, 1, 1, 0, 0, 1, 1, 0, 1, 1, 0, 0,\n",
       "       1, 1, 1, 1, 1, 1, 1, 0, 0, 0, 0, 0, 1, 1, 0, 0, 1, 0, 1, 0, 1, 1,\n",
       "       0, 1, 1, 0, 0, 1, 0, 1, 0, 1, 1, 0])"
      ]
     },
     "execution_count": 85,
     "metadata": {},
     "output_type": "execute_result"
    }
   ],
   "source": [
    "Z = np.random.randint(0,2,100)\n",
    "print(Z)\n",
    "np.logical_not(Z, out=Z) #逻辑非，同理还会有逻辑与，逻辑或 logical_and logical_or"
   ]
  },
  {
   "cell_type": "code",
   "execution_count": 87,
   "metadata": {},
   "outputs": [
    {
     "name": "stdout",
     "output_type": "stream",
     "text": [
      "[-0.87638814 -0.44485029  0.75040057  0.64159917 -0.36912503  0.25417871\n",
      "  0.90100716 -0.8226923   0.65146656  0.88955991 -0.74543886  0.57046328\n",
      " -0.79931355 -0.01595821 -0.64230106  0.32684531  0.47701174  0.19527115\n",
      " -0.00797375 -0.12267978 -0.20960754 -0.55486925 -0.92234711 -0.77985576\n",
      "  0.0976761   0.98259651  0.8356385   0.38777041  0.15950792  0.21404288\n",
      "  0.14772865  0.59803907  0.44162255  0.42467753 -0.13097248  0.16734773\n",
      "  0.2570299   0.1431644  -0.52775316 -0.24814243  0.27944517  0.6825489\n",
      "  0.932524    0.15356064  0.63279899 -0.97559693 -0.65709397  0.11834266\n",
      " -0.50450423 -0.50862836  0.82845173  0.25674094  0.06721974 -0.39651809\n",
      "  0.71583944 -0.06306563  0.52951089 -0.09272905 -0.9412096  -0.56143855\n",
      " -0.58294638 -0.81617219  0.50014726  0.37449868  0.95849642  0.58695881\n",
      "  0.46167994  0.17876374  0.94044051 -0.74627799  0.30425265 -0.90197186\n",
      " -0.21996316 -0.23971922  0.75614973  0.57086455  0.46957292 -0.02892293\n",
      " -0.24754286  0.09158267 -0.05690896 -0.84664467  0.33085731  0.21374783\n",
      "  0.22640564  0.27902456 -0.68208667 -0.78644967  0.53829763 -0.25005081\n",
      "  0.28805906  0.73484956  0.97999203  0.39400146  0.73721944  0.03702071\n",
      " -0.78007166  0.37302879 -0.26317339 -0.67979875]\n"
     ]
    },
    {
     "data": {
      "text/plain": [
       "array([ 0.87638814,  0.44485029, -0.75040057, -0.64159917,  0.36912503,\n",
       "       -0.25417871, -0.90100716,  0.8226923 , -0.65146656, -0.88955991,\n",
       "        0.74543886, -0.57046328,  0.79931355,  0.01595821,  0.64230106,\n",
       "       -0.32684531, -0.47701174, -0.19527115,  0.00797375,  0.12267978,\n",
       "        0.20960754,  0.55486925,  0.92234711,  0.77985576, -0.0976761 ,\n",
       "       -0.98259651, -0.8356385 , -0.38777041, -0.15950792, -0.21404288,\n",
       "       -0.14772865, -0.59803907, -0.44162255, -0.42467753,  0.13097248,\n",
       "       -0.16734773, -0.2570299 , -0.1431644 ,  0.52775316,  0.24814243,\n",
       "       -0.27944517, -0.6825489 , -0.932524  , -0.15356064, -0.63279899,\n",
       "        0.97559693,  0.65709397, -0.11834266,  0.50450423,  0.50862836,\n",
       "       -0.82845173, -0.25674094, -0.06721974,  0.39651809, -0.71583944,\n",
       "        0.06306563, -0.52951089,  0.09272905,  0.9412096 ,  0.56143855,\n",
       "        0.58294638,  0.81617219, -0.50014726, -0.37449868, -0.95849642,\n",
       "       -0.58695881, -0.46167994, -0.17876374, -0.94044051,  0.74627799,\n",
       "       -0.30425265,  0.90197186,  0.21996316,  0.23971922, -0.75614973,\n",
       "       -0.57086455, -0.46957292,  0.02892293,  0.24754286, -0.09158267,\n",
       "        0.05690896,  0.84664467, -0.33085731, -0.21374783, -0.22640564,\n",
       "       -0.27902456,  0.68208667,  0.78644967, -0.53829763,  0.25005081,\n",
       "       -0.28805906, -0.73484956, -0.97999203, -0.39400146, -0.73721944,\n",
       "       -0.03702071,  0.78007166, -0.37302879,  0.26317339,  0.67979875])"
      ]
     },
     "execution_count": 87,
     "metadata": {},
     "output_type": "execute_result"
    }
   ],
   "source": [
    "Z = np.random.uniform(-1.0,1.0,100)\n",
    "print(Z)\n",
    "np.negative(Z, out=Z)"
   ]
  },
  {
   "cell_type": "markdown",
   "metadata": {},
   "source": [
    "## 78. 考虑两组点集P0和P1去描述一组线(二维)和一个点p,如何计算点p到每一条线 i (P0[i],P1[i])的距离"
   ]
  },
  {
   "cell_type": "code",
   "execution_count": 102,
   "metadata": {},
   "outputs": [
    {
     "name": "stdout",
     "output_type": "stream",
     "text": [
      "[4.03814975 8.29198498 1.7003489  1.94024808 7.07245717 1.24030996\n",
      " 5.6981882  0.90599089 3.83462339 2.91692719]\n"
     ]
    }
   ],
   "source": [
    "def distance(P0, P1, p):\n",
    "    T = P1 - P0\n",
    "    L = (T**2).sum(axis=1)\n",
    "    U = -((P0[:,0]-p[...,0])*T[:,0] + (P0[:,1]-p[...,1])*T[:,1]) / L\n",
    "    U = U.reshape(len(U),1)\n",
    "    D = P0 + U*T - p\n",
    "    return np.sqrt((D**2).sum(axis=1))\n",
    "\n",
    "P0 = np.random.uniform(-10,10,(10,2))\n",
    "P1 = np.random.uniform(-10,10,(10,2))\n",
    "p  = np.random.uniform(-10,10,( 1,2))\n",
    "\n",
    "print (distance(P0, P1, p))"
   ]
  },
  {
   "cell_type": "markdown",
   "metadata": {},
   "source": [
    "> 对于数组切片骚操作的解释：\n",
    "> - [:,:,None]增加维度\n",
    "> - [..., None]省略前面的冒号\n",
    "\n",
    "**看个例子，你就明白**\n"
   ]
  },
  {
   "cell_type": "code",
   "execution_count": 104,
   "metadata": {},
   "outputs": [
    {
     "name": "stdout",
     "output_type": "stream",
     "text": [
      "[[1.72110244 1.41926035 2.81894445]\n",
      " [2.90477256 1.28485572 1.56810657]\n",
      " [2.85284183 1.1295819  2.48448686]]\n",
      "[[[1.72110244]\n",
      "  [1.41926035]\n",
      "  [2.81894445]]\n",
      "\n",
      " [[2.90477256]\n",
      "  [1.28485572]\n",
      "  [1.56810657]]\n",
      "\n",
      " [[2.85284183]\n",
      "  [1.1295819 ]\n",
      "  [2.48448686]]]\n",
      "[[[1.72110244]\n",
      "  [1.41926035]\n",
      "  [2.81894445]]\n",
      "\n",
      " [[2.90477256]\n",
      "  [1.28485572]\n",
      "  [1.56810657]]\n",
      "\n",
      " [[2.85284183]\n",
      "  [1.1295819 ]\n",
      "  [2.48448686]]]\n",
      "Ellipsis 1\n"
     ]
    }
   ],
   "source": [
    "a = np.random.uniform(1,3,(3,3))\n",
    "print(a)\n",
    "print(a[:,:,None])\n",
    "print(a[...,None])\n",
    "print(...,1)"
   ]
  },
  {
   "cell_type": "markdown",
   "metadata": {},
   "source": [
    "## 79.考虑两组点集P0和P1去描述一组线(二维)和一组点集P，如何计算每一个点 j(P[j]) 到每一条线 i (P0[i],P1[i])的距离"
   ]
  },
  {
   "cell_type": "code",
   "execution_count": 105,
   "metadata": {},
   "outputs": [
    {
     "name": "stdout",
     "output_type": "stream",
     "text": [
      "[[ 2.16061101  3.89707373  9.85944793  3.50926851  0.75295654  6.59294124\n",
      "   1.7617086   2.11500623  0.02417287  2.81848899]\n",
      " [ 9.5179201   2.33379033  7.43950755  4.98311814  8.14611213  8.91565434\n",
      "   9.12890882  9.16419713  4.23647117  2.18376661]\n",
      " [ 0.79308637  1.90956538  5.10172706  2.18658692  0.74005576  0.88847569\n",
      "   1.8218356   2.88961543  5.43322752  7.96495993]\n",
      " [ 4.55743422  8.72449127 10.96888797  1.18328341  5.43031015  3.55564003\n",
      "   4.38583486  3.62946843  4.62488316  7.98877147]\n",
      " [ 2.33764044  9.32752781 16.92340572  9.88985826  2.74283125 12.58101556\n",
      "   1.81253308  2.19637136  4.6761304   1.2031157 ]\n",
      " [ 1.12458704  4.92947244 10.39803298  3.47796422  0.39015212  6.43063424\n",
      "   0.62009314  0.99790992  0.49643396  3.41452715]\n",
      " [11.23836874  2.76506772 15.24085259 12.78209669  5.55906025 16.42800544\n",
      "   6.44435262  5.54827037 10.63432186  7.93673024]\n",
      " [ 1.71676924  3.56234897  9.09848754  2.61236046  0.77476286  5.69740842\n",
      "   1.79499159  2.26036698  0.86669042  3.61704689]\n",
      " [ 8.81405608  5.93471187  2.31440279  0.06992827 10.2018043   4.23182864\n",
      "  11.2456198  11.85997879  0.37085317  1.22892829]\n",
      " [ 5.13130016 11.79563003 14.45702532  4.00773125  7.70882016  6.12258052\n",
      "   6.69837515  6.25514083  2.82726722  6.57167738]]\n"
     ]
    }
   ],
   "source": [
    "# based on distance function from previous question\n",
    "P0 = np.random.uniform(-10, 10, (10,2))\n",
    "P1 = np.random.uniform(-10,10,(10,2))\n",
    "p = np.random.uniform(-10, 10, (10,2))\n",
    "print (np.array([distance(P0,P1,p_i) for p_i in p]))"
   ]
  },
  {
   "cell_type": "markdown",
   "metadata": {},
   "source": [
    "## 80. 考虑一个任意数组，编写一个提取具有固定形状的子部分并以给定元素为中心的函数（必要时用填充值填充)"
   ]
  },
  {
   "cell_type": "code",
   "execution_count": 107,
   "metadata": {},
   "outputs": [
    {
     "name": "stdout",
     "output_type": "stream",
     "text": [
      "[[3 8 6 3 1 5 5 8 1 1]\n",
      " [9 6 8 2 9 5 2 9 0 5]\n",
      " [9 6 7 0 0 8 6 1 0 8]\n",
      " [8 0 6 7 0 3 6 1 8 9]\n",
      " [9 6 6 7 9 6 1 6 7 3]\n",
      " [9 0 5 6 5 0 5 3 0 0]\n",
      " [8 7 3 2 3 2 8 5 0 7]\n",
      " [1 9 7 8 2 8 8 0 5 0]\n",
      " [6 7 8 9 4 8 8 0 1 8]\n",
      " [3 9 0 2 2 8 4 2 0 0]]\n",
      "[[0 0 0 0 0]\n",
      " [0 3 8 6 3]\n",
      " [0 9 6 8 2]\n",
      " [0 9 6 7 0]\n",
      " [0 8 0 6 7]]\n"
     ]
    },
    {
     "name": "stderr",
     "output_type": "stream",
     "text": [
      "/opt/anaconda3/lib/python3.7/site-packages/ipykernel_launcher.py:23: FutureWarning: Using a non-tuple sequence for multidimensional indexing is deprecated; use `arr[tuple(seq)]` instead of `arr[seq]`. In the future this will be interpreted as an array index, `arr[np.array(seq)]`, which will result either in an error or a different result.\n"
     ]
    }
   ],
   "source": [
    "Z = np.random.randint(0,10,(10,10))\n",
    "shape = (5,5)\n",
    "fill  = 0\n",
    "position = (1,1)\n",
    "\n",
    "R = np.ones(shape, dtype=Z.dtype)*fill\n",
    "P  = np.array(list(position)).astype(int)\n",
    "Rs = np.array(list(R.shape)).astype(int)\n",
    "Zs = np.array(list(Z.shape)).astype(int)\n",
    "\n",
    "R_start = np.zeros((len(shape),)).astype(int)\n",
    "R_stop  = np.array(list(shape)).astype(int)\n",
    "Z_start = (P-Rs//2)\n",
    "Z_stop  = (P+Rs//2)+Rs%2\n",
    "\n",
    "R_start = (R_start - np.minimum(Z_start,0)).tolist()\n",
    "Z_start = (np.maximum(Z_start,0)).tolist()\n",
    "R_stop = np.maximum(R_start, (R_stop - np.maximum(Z_stop-Zs,0))).tolist()\n",
    "Z_stop = (np.minimum(Z_stop,Zs)).tolist()\n",
    "\n",
    "r = [slice(start,stop) for start,stop in zip(R_start,R_stop)]\n",
    "z = [slice(start,stop) for start,stop in zip(Z_start,Z_stop)]\n",
    "R[r] = Z[z]\n",
    "print (Z)\n",
    "print (R)"
   ]
  },
  {
   "cell_type": "markdown",
   "metadata": {},
   "source": [
    "## 81. 考虑一个数组Z = [1,2,3,4,5,6,7,8,9,10,11,12,13,14],如何生成一个数组R = [[1,2,3,4], [2,3,4,5], [3,4,5,6], ...,[11,12,13,14]]"
   ]
  },
  {
   "cell_type": "code",
   "execution_count": 126,
   "metadata": {},
   "outputs": [
    {
     "name": "stdout",
     "output_type": "stream",
     "text": [
      "[ 1  2  3  4  5  6  7  8  9 10 11 12 13 14]\n",
      "(4,)\n"
     ]
    }
   ],
   "source": [
    "Z = np.arange(1,15,dtype=np.uint32)\n",
    "R = stride_tricks.as_strided(Z,(11,4),(4,4))\n",
    "print (Z)\n",
    "print(Z.strides)"
   ]
  },
  {
   "cell_type": "markdown",
   "metadata": {},
   "source": [
    "解释一下np.ndarray.strides，看了许多例子都没看懂，然后看了一下NumPy的官方文档，却瞬间明白了。\n",
    "> 翻译一下：该数组作为40个字节存储在存储器中，一个接一个地存储（称为连续的存储器块）。数组的步幅告诉我们在内存中跳过多少字节以沿着某个轴移动到下一个位置。例如，我们必须跳过4个字节（1个值）才能移动到下一列，但是需要20个字节（5个值）才能到达下一行的相同位置。因此，阵列x的步幅将是（20,4）。\n",
    "\n",
    "**这时候，我们再看一个例子**"
   ]
  },
  {
   "cell_type": "code",
   "execution_count": 133,
   "metadata": {},
   "outputs": [
    {
     "name": "stdout",
     "output_type": "stream",
     "text": [
      "(2,)\n",
      "步长： (2,)  itemsize: 2\n",
      "步长： (4,)  itemsize: 4\n",
      "步长： (8,)  itemsize: 8\n"
     ]
    }
   ],
   "source": [
    "a = np.random.randint(0,3,5,dtype=np.uint16)\n",
    "b = np.random.randint(0,3,5,dtype=np.uint32)\n",
    "c = np.random.randint(0,3,5,dtype=np.uint64)\n",
    "\n",
    "print(\"步长：\",a.strides,\" itemsize:\",a.itemsize)\n",
    "print(\"步长：\",b.strides,\" itemsize:\",b.itemsize)\n",
    "print(\"步长：\",c.strides,\" itemsize:\",c.itemsize)"
   ]
  },
  {
   "cell_type": "markdown",
   "metadata": {},
   "source": [
    "## 82. 计算一个矩阵的秩"
   ]
  },
  {
   "cell_type": "code",
   "execution_count": 135,
   "metadata": {},
   "outputs": [
    {
     "name": "stdout",
     "output_type": "stream",
     "text": [
      "10\n"
     ]
    }
   ],
   "source": [
    "Z = np.random.uniform(0,1,(10,10))\n",
    "U, S, V = np.linalg.svd(Z) # Singular Value Decomposition\n",
    "rank = np.sum(S > 1e-10)\n",
    "print(rank)"
   ]
  },
  {
   "cell_type": "markdown",
   "metadata": {},
   "source": [
    "## 83. 如何找到一个数组中出现频率最高的值"
   ]
  },
  {
   "cell_type": "code",
   "execution_count": 136,
   "metadata": {},
   "outputs": [
    {
     "name": "stdout",
     "output_type": "stream",
     "text": [
      "1\n"
     ]
    }
   ],
   "source": [
    "a = np.array([1,1,1,1,2,2,2,3,4])\n",
    "print(a[np.bincount(a).argmax()])"
   ]
  },
  {
   "cell_type": "markdown",
   "metadata": {},
   "source": [
    "## 84. 从一个10x10的矩阵中提取出连续的3x3区块"
   ]
  },
  {
   "cell_type": "code",
   "execution_count": 152,
   "metadata": {},
   "outputs": [
    {
     "data": {
      "text/plain": [
       "array([[[[0.69537599, 0.53200085, 0.28393066],\n",
       "         [0.53200085, 0.28393066, 0.64861145],\n",
       "         [0.28393066, 0.64861145, 0.40842033]],\n",
       "\n",
       "        [[0.53200085, 0.28393066, 0.64861145],\n",
       "         [0.28393066, 0.64861145, 0.40842033],\n",
       "         [0.64861145, 0.40842033, 0.47999946]],\n",
       "\n",
       "        [[0.28393066, 0.64861145, 0.40842033],\n",
       "         [0.64861145, 0.40842033, 0.47999946],\n",
       "         [0.40842033, 0.47999946, 0.34133726]]],\n",
       "\n",
       "\n",
       "       [[[0.98098826, 0.18646565, 0.99848871],\n",
       "         [0.18646565, 0.99848871, 0.96620668],\n",
       "         [0.99848871, 0.96620668, 0.25589479]],\n",
       "\n",
       "        [[0.18646565, 0.99848871, 0.96620668],\n",
       "         [0.99848871, 0.96620668, 0.25589479],\n",
       "         [0.96620668, 0.25589479, 0.35970022]],\n",
       "\n",
       "        [[0.99848871, 0.96620668, 0.25589479],\n",
       "         [0.96620668, 0.25589479, 0.35970022],\n",
       "         [0.25589479, 0.35970022, 0.06212291]]],\n",
       "\n",
       "\n",
       "       [[[0.01320855, 0.43040639, 0.58678748],\n",
       "         [0.43040639, 0.58678748, 0.80388351],\n",
       "         [0.58678748, 0.80388351, 0.30724189]],\n",
       "\n",
       "        [[0.43040639, 0.58678748, 0.80388351],\n",
       "         [0.58678748, 0.80388351, 0.30724189],\n",
       "         [0.80388351, 0.30724189, 0.94756744]],\n",
       "\n",
       "        [[0.58678748, 0.80388351, 0.30724189],\n",
       "         [0.80388351, 0.30724189, 0.94756744],\n",
       "         [0.30724189, 0.94756744, 0.64752574]]]])"
      ]
     },
     "execution_count": 152,
     "metadata": {},
     "output_type": "execute_result"
    }
   ],
   "source": [
    "a = np.random.random((10,10))\n",
    "shape = (3,3,3,3)\n",
    "strides = a.itemsize*np.array([7,3,3,3])\n",
    "stride_tricks.as_strided(a,shape=shape,strides=strides)"
   ]
  },
  {
   "cell_type": "markdown",
   "metadata": {},
   "source": [
    "## 85. 创建一个满足 Z[i,j] == Z[j,i]的子类"
   ]
  },
  {
   "cell_type": "code",
   "execution_count": 153,
   "metadata": {},
   "outputs": [
    {
     "name": "stdout",
     "output_type": "stream",
     "text": [
      "[[ 0 12  1  7  3]\n",
      " [12  1  3  8 12]\n",
      " [ 1  3  8 42 10]\n",
      " [ 7  8 42  7 14]\n",
      " [ 3 12 10 14  7]]\n"
     ]
    }
   ],
   "source": [
    "class Symetric(np.ndarray):\n",
    "    def __setitem__(self, index, value):\n",
    "        i,j = index\n",
    "        super(Symetric, self).__setitem__((i,j), value)\n",
    "        super(Symetric, self).__setitem__((j,i), value)\n",
    "\n",
    "def symetric(Z):\n",
    "    return np.asarray(Z + Z.T - np.diag(Z.diagonal())).view(Symetric)\n",
    "\n",
    "S = symetric(np.random.randint(0,10,(5,5)))\n",
    "S[2,3] = 42\n",
    "print (S)"
   ]
  },
  {
   "cell_type": "markdown",
   "metadata": {},
   "source": [
    "## 86. 考虑p个 nxn 矩阵和一组形状为(n,1)的向量，如何直接计算p个矩阵的乘积(n,1)"
   ]
  },
  {
   "cell_type": "code",
   "execution_count": 155,
   "metadata": {},
   "outputs": [
    {
     "name": "stdout",
     "output_type": "stream",
     "text": [
      "[[200.]\n",
      " [200.]\n",
      " [200.]\n",
      " [200.]\n",
      " [200.]\n",
      " [200.]\n",
      " [200.]\n",
      " [200.]\n",
      " [200.]\n",
      " [200.]\n",
      " [200.]\n",
      " [200.]\n",
      " [200.]\n",
      " [200.]\n",
      " [200.]\n",
      " [200.]\n",
      " [200.]\n",
      " [200.]\n",
      " [200.]\n",
      " [200.]]\n"
     ]
    }
   ],
   "source": [
    "p, n = 10, 20\n",
    "M = np.ones((p,n,n))\n",
    "V = np.ones((p,n,1))\n",
    "S = np.tensordot(M, V, axes=[[0, 2], [0, 1]])\n",
    "print (S)\n"
   ]
  },
  {
   "cell_type": "code",
   "execution_count": null,
   "metadata": {},
   "outputs": [],
   "source": []
  }
 ],
 "metadata": {
  "kernelspec": {
   "display_name": "Python 3",
   "language": "python",
   "name": "python3"
  },
  "language_info": {
   "codemirror_mode": {
    "name": "ipython",
    "version": 3
   },
   "file_extension": ".py",
   "mimetype": "text/x-python",
   "name": "python",
   "nbconvert_exporter": "python",
   "pygments_lexer": "ipython3",
   "version": "3.7.2"
  }
 },
 "nbformat": 4,
 "nbformat_minor": 2
}
